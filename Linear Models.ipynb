{
 "cells": [
  {
   "cell_type": "code",
   "execution_count": 1,
   "id": "ddcf89ae",
   "metadata": {},
   "outputs": [],
   "source": [
    "import numpy as np\n",
    "import pandas as pd\n",
    "from sklearn.preprocessing import PolynomialFeatures\n",
    "from dataset import make_dataset\n",
    "from sklearn.metrics import mean_squared_error as MSE\n",
    "from sklearn.preprocessing import StandardScaler\n",
    "from sklearn.linear_model import LinearRegression\n",
    "from sklearn.model_selection import KFold\n",
    "from sklearn.linear_model import Lasso\n",
    "from sklearn.linear_model import Ridge\n",
    "from scipy.stats import *"
   ]
  },
  {
   "attachments": {},
   "cell_type": "markdown",
   "id": "bb23189d",
   "metadata": {},
   "source": [
    "<h1> 0. Final Result\n"
   ]
  },
  {
   "cell_type": "code",
   "execution_count": 15,
   "id": "b35f6130",
   "metadata": {},
   "outputs": [
    {
     "data": {
      "text/html": [
       "<div>\n",
       "<style scoped>\n",
       "    .dataframe tbody tr th:only-of-type {\n",
       "        vertical-align: middle;\n",
       "    }\n",
       "\n",
       "    .dataframe tbody tr th {\n",
       "        vertical-align: top;\n",
       "    }\n",
       "\n",
       "    .dataframe thead th {\n",
       "        text-align: right;\n",
       "    }\n",
       "</style>\n",
       "<table border=\"1\" class=\"dataframe\">\n",
       "  <thead>\n",
       "    <tr style=\"text-align: right;\">\n",
       "      <th></th>\n",
       "      <th>Model</th>\n",
       "      <th>MSE</th>\n",
       "    </tr>\n",
       "  </thead>\n",
       "  <tbody>\n",
       "    <tr>\n",
       "      <th>0</th>\n",
       "      <td>2.2.2.Ridge</td>\n",
       "      <td>1.678998e+02</td>\n",
       "    </tr>\n",
       "    <tr>\n",
       "      <th>1</th>\n",
       "      <td>2.2.2.Lasso</td>\n",
       "      <td>1.679737e+02</td>\n",
       "    </tr>\n",
       "    <tr>\n",
       "      <th>2</th>\n",
       "      <td>2.2.1.Ridge</td>\n",
       "      <td>2.020190e+02</td>\n",
       "    </tr>\n",
       "    <tr>\n",
       "      <th>3</th>\n",
       "      <td>2.2.1.Lasso</td>\n",
       "      <td>2.023861e+02</td>\n",
       "    </tr>\n",
       "    <tr>\n",
       "      <th>4</th>\n",
       "      <td>2.1.4</td>\n",
       "      <td>2.095648e+02</td>\n",
       "    </tr>\n",
       "    <tr>\n",
       "      <th>5</th>\n",
       "      <td>2.1.3</td>\n",
       "      <td>2.098915e+02</td>\n",
       "    </tr>\n",
       "    <tr>\n",
       "      <th>6</th>\n",
       "      <td>2.1.1</td>\n",
       "      <td>1.067466e+24</td>\n",
       "    </tr>\n",
       "    <tr>\n",
       "      <th>7</th>\n",
       "      <td>2.1.2</td>\n",
       "      <td>2.427031e+24</td>\n",
       "    </tr>\n",
       "  </tbody>\n",
       "</table>\n",
       "</div>"
      ],
      "text/plain": [
       "         Model           MSE\n",
       "0  2.2.2.Ridge  1.678998e+02\n",
       "1  2.2.2.Lasso  1.679737e+02\n",
       "2  2.2.1.Ridge  2.020190e+02\n",
       "3  2.2.1.Lasso  2.023861e+02\n",
       "4        2.1.4  2.095648e+02\n",
       "5        2.1.3  2.098915e+02\n",
       "6        2.1.1  1.067466e+24\n",
       "7        2.1.2  2.427031e+24"
      ]
     },
     "execution_count": 15,
     "metadata": {},
     "output_type": "execute_result"
    }
   ],
   "source": [
    "MSE_sale = {'Model': ['2.1.1', '2.1.2', '2.1.3', '2.1.4','2.2.1.Ridge','2.2.1.Lasso','2.2.2.Ridge','2.2.2.Lasso'],\n",
    "        'MSE': [1.067466099217631e+24, 2.4270306210874856e+24, 209.89150465202323, 209.56477778153803, 202.01896754492043, 202.3860511786856, 167.89975376346064, 167.97370141630745]}\n",
    "MSE_sale = pd.DataFrame(MSE_sale)\n",
    "MSE_sorted = MSE_sale.sort_values(by='MSE')\n",
    "MSE_sorted.reset_index(drop=True)"
   ]
  },
  {
   "attachments": {},
   "cell_type": "markdown",
   "id": "80df78dc",
   "metadata": {},
   "source": [
    "Based on the result, the best model is Model 2.2.2 using Ridge Regression\n",
    "The details are: \n",
    "- X: Categorical attributes:\n",
    "         weekdays, Product IDs and Brand IDs,\n",
    "     Interacting terms: \n",
    "        'avgOriginalUnitPrice * avgFinalUnitPrice'\n",
    "        'clickVolume * avgFinalUnitPrice'\n",
    "- Y: sales\n",
    "- alpha_value = 0.1"
   ]
  },
  {
   "attachments": {},
   "cell_type": "markdown",
   "id": "303bbc5c",
   "metadata": {},
   "source": [
    "<h1> 1. Data Preprocess\n"
   ]
  },
  {
   "attachments": {},
   "cell_type": "markdown",
   "id": "179dd5f1",
   "metadata": {},
   "source": [
    "<h2> 1.1 Import Data"
   ]
  },
  {
   "cell_type": "code",
   "execution_count": 3,
   "id": "b47509df",
   "metadata": {},
   "outputs": [
    {
     "name": "stderr",
     "output_type": "stream",
     "text": [
      "c:\\Users\\ren13\\anaconda3\\lib\\site-packages\\sklearn\\preprocessing\\_encoders.py:868: FutureWarning: `sparse` was renamed to `sparse_output` in version 1.2 and will be removed in 1.4. `sparse_output` is ignored unless you leave `sparse` to its default value.\n",
      "  warnings.warn(\n"
     ]
    }
   ],
   "source": [
    "# importing training data set\n",
    "ss, not_scaled_df, scaled_df, data_train = make_dataset()"
   ]
  },
  {
   "attachments": {},
   "cell_type": "markdown",
   "id": "85de982b",
   "metadata": {},
   "source": [
    "<h2> 1.2 Filter Data"
   ]
  },
  {
   "cell_type": "code",
   "execution_count": 4,
   "id": "266896c3",
   "metadata": {},
   "outputs": [],
   "source": [
    "# Drop outliers for scaled_df\n",
    "scaled_df = scaled_df[scaled_df['sales'] <= 200]\n",
    "scaled_df = scaled_df.reset_index(drop=True)\n",
    "\n",
    "y = scaled_df.sales\n",
    "scaled_df = scaled_df.drop(['sales'], axis = 1)\n",
    "\n",
    "# Drop outliers for not_scaled_df\n",
    "not_scaled_df = not_scaled_df[not_scaled_df['sales'] <= 200]\n",
    "not_scaled_df = not_scaled_df.reset_index(drop=True)\n",
    "\n",
    "not_scaled_df = not_scaled_df.drop(['sales'], axis = 1)"
   ]
  },
  {
   "attachments": {},
   "cell_type": "markdown",
   "id": "8e8887ce",
   "metadata": {},
   "source": [
    "<h1> 2. Linear Models"
   ]
  },
  {
   "attachments": {},
   "cell_type": "markdown",
   "id": "0b7c581a",
   "metadata": {},
   "source": [
    "<h2> 2.1 Preliminary Model Selection"
   ]
  },
  {
   "attachments": {},
   "cell_type": "markdown",
   "id": "9d23b123",
   "metadata": {},
   "source": [
    "<h4> 2.1.1 Multiple Linear Regression without any interaction terms"
   ]
  },
  {
   "cell_type": "code",
   "execution_count": 6,
   "id": "337107b0",
   "metadata": {},
   "outputs": [
    {
     "name": "stdout",
     "output_type": "stream",
     "text": [
      "the average mse is  1.067466099217631e+24\n"
     ]
    },
    {
     "data": {
      "text/plain": [
       "[255.60075495793268,\n",
       " 256.45866670220147,\n",
       " 191.7911919263693,\n",
       " 120.28051205458145,\n",
       " 102.84968910217285,\n",
       " 140.5332353071733,\n",
       " 284.0433948863636,\n",
       " 304.5286385276101,\n",
       " 202.0505282315341,\n",
       " 1.067466099217631e+25]"
      ]
     },
     "execution_count": 6,
     "metadata": {},
     "output_type": "execute_result"
    }
   ],
   "source": [
    "# define the function for 10 fold LR\n",
    "kf = KFold(n_splits=10, random_state = 24, shuffle = True)\n",
    "def LR_KFold_MSE(dataset):\n",
    "    mse_multipleLR=[]\n",
    "    for train_index, test_index in kf.split(dataset):\n",
    "        X_train = dataset.iloc[train_index]\n",
    "        y_train = y.iloc[train_index]\n",
    "        X_test = dataset.iloc[test_index]\n",
    "        y_test = y.iloc[test_index]\n",
    "        # multiple LR\n",
    "        lm=LinearRegression()\n",
    "        lm.fit(X_train,y_train)\n",
    "        mse_multipleLR.append(MSE(y_test,lm.predict(X_test)))        \n",
    "    return mse_multipleLR\n",
    "\n",
    "res_MLR = LR_KFold_MSE(scaled_df)     \n",
    "\n",
    "print(\"the average mse is \", np.mean(res_MLR))\n",
    "res_MLR"
   ]
  },
  {
   "attachments": {},
   "cell_type": "markdown",
   "id": "c8d10ff8",
   "metadata": {},
   "source": [
    "By obsering 10 different mse, we notice that one of the mse is significantly larger than the rest. This indicates potential non linear relationships in the data set.\n",
    "Thus, MLR should not be the best choice."
   ]
  },
  {
   "attachments": {},
   "cell_type": "markdown",
   "id": "733949ae",
   "metadata": {},
   "source": [
    "<h4> 2.1.2 Polynomial Regression of degree 2 without any interaction terms"
   ]
  },
  {
   "cell_type": "code",
   "execution_count": 7,
   "id": "35dead64",
   "metadata": {},
   "outputs": [
    {
     "name": "stdout",
     "output_type": "stream",
     "text": [
      "the average mse is  2.4270306210874856e+24\n"
     ]
    },
    {
     "data": {
      "text/plain": [
       "[4.196392339498994e+24,\n",
       " 4.6325738512365183e+24,\n",
       " 3.3001409405316393e+23,\n",
       " 6.840952172628255e+23,\n",
       " 4.5426706356849674e+23,\n",
       " 1.8674280582746582e+24,\n",
       " 1.5799997178770547e+24,\n",
       " 3.315748254522411e+23,\n",
       " 1.0750833829807135e+24,\n",
       " 9.118877660670187e+24]"
      ]
     },
     "execution_count": 7,
     "metadata": {},
     "output_type": "execute_result"
    }
   ],
   "source": [
    "# define the function for 10 fold PR\n",
    "kf = KFold(n_splits=10, random_state = 24, shuffle = True)\n",
    "def Poly_KFold_MSE(dataset, degree):\n",
    "    mse_multipleLR=[]\n",
    "    for train_index, test_index in kf.split(dataset):\n",
    "        X_train = dataset.iloc[train_index]\n",
    "        y_train = y.iloc[train_index]\n",
    "        X_test = dataset.iloc[test_index]\n",
    "        y_test = y.iloc[test_index]\n",
    "        # transform polynomial features\n",
    "        poly = PolynomialFeatures(degree=degree)\n",
    "        X_poly_train= poly.fit_transform(X_train)\n",
    "        X_poly_test= poly.fit_transform(X_test)\n",
    "        # multiple LR\n",
    "        lm=LinearRegression()\n",
    "        lm.fit(X_poly_train,y_train)\n",
    "        mse_multipleLR.append(MSE(y_test,lm.predict(X_poly_test)))        \n",
    "    return mse_multipleLR \n",
    "res_Poly = Poly_KFold_MSE(scaled_df,2)     \n",
    "\n",
    "print(\"the average mse is \", np.mean(res_Poly))\n",
    "res_Poly"
   ]
  },
  {
   "attachments": {},
   "cell_type": "markdown",
   "id": "79be7a2a",
   "metadata": {},
   "source": [
    "The high mse indicates there is overfitting in Polynomial regression of degree 2"
   ]
  },
  {
   "attachments": {},
   "cell_type": "markdown",
   "id": "2bf48393",
   "metadata": {},
   "source": [
    "<h4> 2.1.3 Ridge Regression without any interaction terms\n",
    ", taking alpha_values = [0.01,0.1,1,5,10,50,100]"
   ]
  },
  {
   "cell_type": "code",
   "execution_count": 8,
   "id": "40765ad1",
   "metadata": {},
   "outputs": [
    {
     "name": "stdout",
     "output_type": "stream",
     "text": [
      "the best alpha is  5\n",
      "the best mse is  209.89150465202323\n"
     ]
    },
    {
     "data": {
      "text/plain": [
       "[255.9864151182656,\n",
       " 252.00604344746017,\n",
       " 190.45437531555424,\n",
       " 107.67167100184155,\n",
       " 100.45698355212701,\n",
       " 126.1434932918734,\n",
       " 286.1079020581504,\n",
       " 297.22987825971495,\n",
       " 199.67405983684532,\n",
       " 283.1842246383995]"
      ]
     },
     "execution_count": 8,
     "metadata": {},
     "output_type": "execute_result"
    }
   ],
   "source": [
    "# define the function for 10 fold Ridge Regression\n",
    "kf = KFold(n_splits=10, random_state = 24, shuffle = True)\n",
    "def Ridge_KFold_MSE(dataset, alpha):\n",
    "    mse_ridge=[]\n",
    "    for train_index, test_index in kf.split(dataset):\n",
    "        X_train = dataset.iloc[train_index]\n",
    "        y_train = y.iloc[train_index]\n",
    "        X_test = dataset.iloc[test_index]\n",
    "        y_test = y.iloc[test_index]\n",
    "        ridge = Ridge(alpha=alpha)\n",
    "        ridge.fit(X_train, y_train)\n",
    "        mse_ridge.append(MSE(y_test,ridge.predict(X_test)))        \n",
    "    return mse_ridge\n",
    "#list of alpha_values\n",
    "alpha_values = [0.01,0.1,1,5,10,50,100]\n",
    "\n",
    "# select the best alpha and its mse\n",
    "best_alpha_Ridge = 0\n",
    "best_mse_Ridge = 10**20\n",
    "\n",
    "for alpha in alpha_values:\n",
    "    res_Ridge = Ridge_KFold_MSE(scaled_df, alpha)\n",
    "    current_mse = np.mean(res_Ridge)\n",
    "    if (current_mse < best_mse_Ridge):\n",
    "        best_alpha_Ridge = alpha\n",
    "        best_mse_Ridge = current_mse  \n",
    "   \n",
    "print(\"the best alpha is \", best_alpha_Ridge)\n",
    "print(\"the best mse is \", best_mse_Ridge)\n",
    "Ridge_KFold_MSE(scaled_df, best_alpha_Ridge)\n",
    "    "
   ]
  },
  {
   "attachments": {},
   "cell_type": "markdown",
   "id": "622bb004",
   "metadata": {},
   "source": [
    "<h4> 2.1.4 Lasso Regression without any interaction terms\n",
    ", taking alpha_values = [0.01,0.1,1,5,10,50,100]"
   ]
  },
  {
   "cell_type": "code",
   "execution_count": 10,
   "id": "db92f2e9",
   "metadata": {},
   "outputs": [
    {
     "name": "stdout",
     "output_type": "stream",
     "text": [
      "the best alpha is  0.01\n",
      "the best mse is  209.56477778153803\n"
     ]
    }
   ],
   "source": [
    "# define the function for 10 fold Lasso Regression\n",
    "kf = KFold(n_splits=10, random_state = 24, shuffle = True)\n",
    "def Lasso_KFold_MSE(dataset, alpha):\n",
    "    mse_lasso=[]\n",
    "    for train_index, test_index in kf.split(dataset):\n",
    "        X_train = dataset.iloc[train_index]\n",
    "        y_train = y.iloc[train_index]\n",
    "        X_test = dataset.iloc[test_index]\n",
    "        y_test = y.iloc[test_index]\n",
    "        lasso = Lasso(alpha=alpha)\n",
    "        lasso.fit(X_train, y_train)\n",
    "        mse_lasso.append(MSE(y_test,lasso.predict(X_test))) \n",
    "    return mse_lasso\n",
    "\n",
    "#list of alpha_values \n",
    "alpha_values = [0.01,0.1,1,5,10,50,100]\n",
    "\n",
    "# select the best alpha and its mse\n",
    "best_alpha_Lasso = 0\n",
    "best_mse_Lasso = 10**20\n",
    "for alpha in alpha_values:\n",
    "    res_Lasso = Lasso_KFold_MSE(scaled_df, alpha)\n",
    "    current_mse = np.mean(res_Lasso)\n",
    "    if (current_mse < best_mse_Lasso):\n",
    "        best_alpha_Lasso = alpha\n",
    "        best_mse_Lasso = current_mse \n",
    "    \n",
    "print(\"the best alpha is \", best_alpha_Lasso)\n",
    "print(\"the best mse is \", best_mse_Lasso)\n"
   ]
  },
  {
   "cell_type": "code",
   "execution_count": 11,
   "id": "74d2be0f",
   "metadata": {},
   "outputs": [
    {
     "name": "stdout",
     "output_type": "stream",
     "text": [
      "Index(['productID_2', 'productID_3', 'productID_6', 'productID_7',\n",
      "       'productID_9', 'productID_13', 'productID_14', 'productID_16',\n",
      "       'productID_17', 'productID_20', 'productID_24', 'productID_26',\n",
      "       'productID_27', 'productID_28', 'productID_33', 'productID_37',\n",
      "       'productID_38', 'productID_40', 'productID_41', 'productID_43',\n",
      "       'productID_45', 'productID_51', 'productID_52', 'productID_57',\n",
      "       'productID_58', 'productID_62', 'productID_64', 'productID_65',\n",
      "       'productID_68', 'productID_71', 'productID_72', 'productID_73',\n",
      "       'productID_75', 'productID_76', 'productID_78', 'productID_81',\n",
      "       'productID_82', 'productID_85', 'productID_87', 'productID_88',\n",
      "       'productID_90', 'productID_91', 'productID_93', 'productID_96',\n",
      "       'productID_97', 'productID_99', 'brandID_1', 'brandID_3', 'brandID_4',\n",
      "       'brandID_5', 'brandID_8', 'brandID_9', 'brandID_10', 'brandID_11',\n",
      "       'brandID_12', 'brandID_13', 'brandID_14', 'brandID_15', 'brandID_17',\n",
      "       'brandID_18', 'brandID_19', 'brandID_20', 'brandID_23', 'brandID_25',\n",
      "       'brandID_26', 'brandID_27', 'brandID_29', 'brandID_31', 'brandID_35',\n",
      "       'brandID_36', 'weekday_1', 'weekday_2', 'weekday_3', 'weekday_4',\n",
      "       'weekday_5', 'weekday_7', 'attribute1', 'attribute2', 'attribute3',\n",
      "       'attribute4', 'clickVolume', 'avgOriginalUnitPrice',\n",
      "       'avgFinalUnitPrice', 'ma14SalesVolume', 'meanAge', 'gender',\n",
      "       'meanEducation', 'maritalStatus', 'plus', 'meanPurchasePower',\n",
      "       'meanUserLevel', 'meanCityLevel'],\n",
      "      dtype='object')\n",
      "Index(['productID_2', 'productID_3', 'productID_7', 'productID_8',\n",
      "       'productID_13', 'productID_14', 'productID_15', 'productID_16',\n",
      "       'productID_17', 'productID_18', 'productID_20', 'productID_23',\n",
      "       'productID_24', 'productID_26', 'productID_28', 'productID_31',\n",
      "       'productID_33', 'productID_37', 'productID_38', 'productID_40',\n",
      "       'productID_41', 'productID_43', 'productID_45', 'productID_51',\n",
      "       'productID_52', 'productID_57', 'productID_58', 'productID_61',\n",
      "       'productID_62', 'productID_65', 'productID_68', 'productID_71',\n",
      "       'productID_72', 'productID_73', 'productID_75', 'productID_76',\n",
      "       'productID_78', 'productID_81', 'productID_82', 'productID_85',\n",
      "       'productID_87', 'productID_88', 'productID_90', 'productID_91',\n",
      "       'productID_92', 'productID_93', 'productID_95', 'productID_96',\n",
      "       'productID_97', 'productID_99', 'brandID_1', 'brandID_4', 'brandID_5',\n",
      "       'brandID_8', 'brandID_9', 'brandID_10', 'brandID_11', 'brandID_12',\n",
      "       'brandID_13', 'brandID_14', 'brandID_15', 'brandID_17', 'brandID_19',\n",
      "       'brandID_20', 'brandID_23', 'brandID_25', 'brandID_26', 'brandID_27',\n",
      "       'brandID_29', 'brandID_31', 'brandID_35', 'brandID_36', 'weekday_1',\n",
      "       'weekday_2', 'weekday_3', 'weekday_4', 'weekday_5', 'weekday_6',\n",
      "       'attribute1', 'attribute2', 'attribute3', 'attribute4', 'clickVolume',\n",
      "       'avgOriginalUnitPrice', 'avgFinalUnitPrice', 'ma14SalesVolume',\n",
      "       'meanAge', 'gender', 'meanEducation', 'maritalStatus', 'plus',\n",
      "       'meanPurchasePower', 'meanUserLevel', 'meanCityLevel'],\n",
      "      dtype='object')\n",
      "Index(['productID_1', 'productID_2', 'productID_3', 'productID_7',\n",
      "       'productID_8', 'productID_13', 'productID_14', 'productID_15',\n",
      "       'productID_17', 'productID_20', 'productID_24', 'productID_26',\n",
      "       'productID_28', 'productID_33', 'productID_37', 'productID_40',\n",
      "       'productID_41', 'productID_43', 'productID_44', 'productID_51',\n",
      "       'productID_52', 'productID_57', 'productID_58', 'productID_61',\n",
      "       'productID_62', 'productID_64', 'productID_65', 'productID_68',\n",
      "       'productID_71', 'productID_72', 'productID_73', 'productID_75',\n",
      "       'productID_76', 'productID_78', 'productID_81', 'productID_82',\n",
      "       'productID_85', 'productID_87', 'productID_88', 'productID_90',\n",
      "       'productID_91', 'productID_92', 'productID_95', 'productID_96',\n",
      "       'productID_97', 'productID_99', 'brandID_1', 'brandID_4', 'brandID_5',\n",
      "       'brandID_8', 'brandID_10', 'brandID_11', 'brandID_13', 'brandID_14',\n",
      "       'brandID_15', 'brandID_17', 'brandID_19', 'brandID_20', 'brandID_22',\n",
      "       'brandID_23', 'brandID_25', 'brandID_26', 'brandID_27', 'brandID_29',\n",
      "       'brandID_31', 'brandID_35', 'brandID_36', 'weekday_1', 'weekday_2',\n",
      "       'weekday_3', 'weekday_4', 'weekday_5', 'weekday_6', 'attribute1',\n",
      "       'attribute2', 'attribute3', 'attribute4', 'clickVolume',\n",
      "       'avgOriginalUnitPrice', 'avgFinalUnitPrice', 'ma14SalesVolume',\n",
      "       'meanAge', 'gender', 'meanEducation', 'maritalStatus', 'plus',\n",
      "       'meanPurchasePower', 'meanUserLevel', 'meanCityLevel'],\n",
      "      dtype='object')\n",
      "Index(['productID_2', 'productID_3', 'productID_6', 'productID_7',\n",
      "       'productID_13', 'productID_14', 'productID_15', 'productID_17',\n",
      "       'productID_20', 'productID_24', 'productID_26', 'productID_28',\n",
      "       'productID_33', 'productID_36', 'productID_37', 'productID_38',\n",
      "       'productID_40', 'productID_41', 'productID_43', 'productID_45',\n",
      "       'productID_51', 'productID_52', 'productID_57', 'productID_58',\n",
      "       'productID_61', 'productID_62', 'productID_64', 'productID_65',\n",
      "       'productID_68', 'productID_72', 'productID_73', 'productID_75',\n",
      "       'productID_76', 'productID_78', 'productID_81', 'productID_82',\n",
      "       'productID_84', 'productID_85', 'productID_87', 'productID_88',\n",
      "       'productID_90', 'productID_91', 'productID_92', 'productID_93',\n",
      "       'productID_95', 'productID_96', 'productID_97', 'productID_99',\n",
      "       'brandID_1', 'brandID_3', 'brandID_4', 'brandID_5', 'brandID_8',\n",
      "       'brandID_10', 'brandID_11', 'brandID_13', 'brandID_14', 'brandID_15',\n",
      "       'brandID_17', 'brandID_18', 'brandID_19', 'brandID_20', 'brandID_23',\n",
      "       'brandID_25', 'brandID_26', 'brandID_27', 'brandID_29', 'brandID_31',\n",
      "       'brandID_35', 'brandID_36', 'weekday_1', 'weekday_2', 'weekday_3',\n",
      "       'weekday_4', 'weekday_5', 'weekday_7', 'attribute1', 'attribute3',\n",
      "       'attribute4', 'clickVolume', 'avgOriginalUnitPrice',\n",
      "       'avgFinalUnitPrice', 'ma14SalesVolume', 'meanAge', 'gender',\n",
      "       'meanEducation', 'maritalStatus', 'plus', 'meanPurchasePower',\n",
      "       'meanUserLevel', 'meanCityLevel'],\n",
      "      dtype='object')\n",
      "Index(['productID_2', 'productID_3', 'productID_7', 'productID_8',\n",
      "       'productID_13', 'productID_14', 'productID_15', 'productID_17',\n",
      "       'productID_20', 'productID_24', 'productID_26', 'productID_27',\n",
      "       'productID_28', 'productID_33', 'productID_37', 'productID_40',\n",
      "       'productID_41', 'productID_43', 'productID_44', 'productID_45',\n",
      "       'productID_51', 'productID_52', 'productID_57', 'productID_58',\n",
      "       'productID_61', 'productID_62', 'productID_64', 'productID_68',\n",
      "       'productID_72', 'productID_73', 'productID_75', 'productID_76',\n",
      "       'productID_78', 'productID_81', 'productID_82', 'productID_85',\n",
      "       'productID_87', 'productID_88', 'productID_90', 'productID_91',\n",
      "       'productID_92', 'productID_93', 'productID_96', 'productID_97',\n",
      "       'productID_99', 'brandID_1', 'brandID_4', 'brandID_5', 'brandID_8',\n",
      "       'brandID_10', 'brandID_11', 'brandID_12', 'brandID_13', 'brandID_14',\n",
      "       'brandID_15', 'brandID_17', 'brandID_19', 'brandID_20', 'brandID_23',\n",
      "       'brandID_26', 'brandID_27', 'brandID_29', 'brandID_31', 'brandID_35',\n",
      "       'brandID_36', 'weekday_2', 'weekday_3', 'weekday_4', 'weekday_5',\n",
      "       'weekday_7', 'attribute1', 'attribute2', 'attribute3', 'attribute4',\n",
      "       'clickVolume', 'avgOriginalUnitPrice', 'avgFinalUnitPrice',\n",
      "       'ma14SalesVolume', 'meanAge', 'gender', 'meanEducation',\n",
      "       'maritalStatus', 'plus', 'meanPurchasePower', 'meanUserLevel',\n",
      "       'meanCityLevel'],\n",
      "      dtype='object')\n",
      "Index(['productID_2', 'productID_3', 'productID_6', 'productID_7',\n",
      "       'productID_8', 'productID_9', 'productID_13', 'productID_14',\n",
      "       'productID_15', 'productID_16', 'productID_17', 'productID_20',\n",
      "       'productID_22', 'productID_24', 'productID_26', 'productID_27',\n",
      "       'productID_28', 'productID_33', 'productID_37', 'productID_38',\n",
      "       'productID_40', 'productID_41', 'productID_43', 'productID_45',\n",
      "       'productID_51', 'productID_57', 'productID_58', 'productID_62',\n",
      "       'productID_63', 'productID_65', 'productID_68', 'productID_71',\n",
      "       'productID_72', 'productID_73', 'productID_75', 'productID_76',\n",
      "       'productID_78', 'productID_81', 'productID_82', 'productID_85',\n",
      "       'productID_87', 'productID_88', 'productID_90', 'productID_91',\n",
      "       'productID_92', 'productID_93', 'productID_95', 'productID_96',\n",
      "       'productID_97', 'productID_99', 'brandID_1', 'brandID_2', 'brandID_4',\n",
      "       'brandID_5', 'brandID_8', 'brandID_9', 'brandID_10', 'brandID_11',\n",
      "       'brandID_14', 'brandID_15', 'brandID_16', 'brandID_17', 'brandID_19',\n",
      "       'brandID_20', 'brandID_23', 'brandID_24', 'brandID_26', 'brandID_27',\n",
      "       'brandID_35', 'brandID_36', 'weekday_2', 'weekday_3', 'weekday_4',\n",
      "       'weekday_5', 'weekday_6', 'weekday_7', 'attribute1', 'attribute2',\n",
      "       'attribute3', 'attribute4', 'clickVolume', 'avgOriginalUnitPrice',\n",
      "       'avgFinalUnitPrice', 'ma14SalesVolume', 'gender', 'meanEducation',\n",
      "       'maritalStatus', 'plus', 'meanPurchasePower', 'meanUserLevel',\n",
      "       'meanCityLevel'],\n",
      "      dtype='object')\n",
      "Index(['productID_1', 'productID_2', 'productID_3', 'productID_6',\n",
      "       'productID_7', 'productID_8', 'productID_13', 'productID_14',\n",
      "       'productID_15', 'productID_17', 'productID_20', 'productID_23',\n",
      "       'productID_24', 'productID_25', 'productID_26', 'productID_28',\n",
      "       'productID_33', 'productID_34', 'productID_37', 'productID_38',\n",
      "       'productID_40', 'productID_41', 'productID_43', 'productID_45',\n",
      "       'productID_51', 'productID_52', 'productID_57', 'productID_58',\n",
      "       'productID_61', 'productID_62', 'productID_63', 'productID_65',\n",
      "       'productID_68', 'productID_72', 'productID_73', 'productID_75',\n",
      "       'productID_76', 'productID_78', 'productID_81', 'productID_82',\n",
      "       'productID_85', 'productID_87', 'productID_88', 'productID_90',\n",
      "       'productID_91', 'productID_92', 'productID_93', 'productID_96',\n",
      "       'productID_97', 'productID_99', 'brandID_1', 'brandID_4', 'brandID_5',\n",
      "       'brandID_8', 'brandID_10', 'brandID_11', 'brandID_12', 'brandID_13',\n",
      "       'brandID_17', 'brandID_19', 'brandID_20', 'brandID_23', 'brandID_24',\n",
      "       'brandID_26', 'brandID_27', 'brandID_35', 'brandID_36', 'weekday_2',\n",
      "       'weekday_3', 'weekday_4', 'weekday_5', 'weekday_6', 'attribute1',\n",
      "       'attribute2', 'attribute3', 'attribute4', 'clickVolume',\n",
      "       'avgOriginalUnitPrice', 'avgFinalUnitPrice', 'ma14SalesVolume',\n",
      "       'meanAge', 'gender', 'meanEducation', 'maritalStatus', 'plus',\n",
      "       'meanPurchasePower', 'meanUserLevel', 'meanCityLevel'],\n",
      "      dtype='object')\n",
      "Index(['productID_2', 'productID_3', 'productID_6', 'productID_7',\n",
      "       'productID_10', 'productID_13', 'productID_14', 'productID_15',\n",
      "       'productID_17', 'productID_20', 'productID_24', 'productID_26',\n",
      "       'productID_27', 'productID_28', 'productID_33', 'productID_37',\n",
      "       'productID_40', 'productID_41', 'productID_43', 'productID_45',\n",
      "       'productID_51', 'productID_52', 'productID_57', 'productID_58',\n",
      "       'productID_61', 'productID_62', 'productID_63', 'productID_64',\n",
      "       'productID_65', 'productID_68', 'productID_72', 'productID_73',\n",
      "       'productID_75', 'productID_76', 'productID_78', 'productID_81',\n",
      "       'productID_82', 'productID_85', 'productID_87', 'productID_88',\n",
      "       'productID_90', 'productID_91', 'productID_93', 'productID_95',\n",
      "       'productID_96', 'productID_97', 'productID_99', 'brandID_1',\n",
      "       'brandID_3', 'brandID_4', 'brandID_5', 'brandID_8', 'brandID_10',\n",
      "       'brandID_11', 'brandID_13', 'brandID_14', 'brandID_15', 'brandID_17',\n",
      "       'brandID_19', 'brandID_20', 'brandID_23', 'brandID_24', 'brandID_25',\n",
      "       'brandID_26', 'brandID_27', 'brandID_29', 'brandID_31', 'brandID_35',\n",
      "       'brandID_36', 'weekday_1', 'weekday_2', 'weekday_3', 'weekday_4',\n",
      "       'weekday_5', 'weekday_6', 'attribute2', 'attribute3', 'attribute4',\n",
      "       'clickVolume', 'avgOriginalUnitPrice', 'avgFinalUnitPrice',\n",
      "       'ma14SalesVolume', 'meanAge', 'gender', 'meanEducation',\n",
      "       'maritalStatus', 'plus', 'meanPurchasePower', 'meanUserLevel',\n",
      "       'meanCityLevel'],\n",
      "      dtype='object')\n",
      "Index(['productID_1', 'productID_2', 'productID_3', 'productID_7',\n",
      "       'productID_8', 'productID_10', 'productID_13', 'productID_14',\n",
      "       'productID_15', 'productID_17', 'productID_20', 'productID_23',\n",
      "       'productID_24', 'productID_26', 'productID_27', 'productID_28',\n",
      "       'productID_31', 'productID_33', 'productID_37', 'productID_38',\n",
      "       'productID_40', 'productID_41', 'productID_43', 'productID_45',\n",
      "       'productID_51', 'productID_52', 'productID_57', 'productID_58',\n",
      "       'productID_61', 'productID_62', 'productID_65', 'productID_68',\n",
      "       'productID_72', 'productID_73', 'productID_75', 'productID_76',\n",
      "       'productID_78', 'productID_81', 'productID_82', 'productID_85',\n",
      "       'productID_88', 'productID_90', 'productID_91', 'productID_92',\n",
      "       'productID_93', 'productID_95', 'productID_96', 'productID_97',\n",
      "       'productID_99', 'brandID_1', 'brandID_4', 'brandID_5', 'brandID_8',\n",
      "       'brandID_10', 'brandID_11', 'brandID_12', 'brandID_13', 'brandID_14',\n",
      "       'brandID_15', 'brandID_17', 'brandID_18', 'brandID_19', 'brandID_20',\n",
      "       'brandID_23', 'brandID_26', 'brandID_27', 'brandID_29', 'brandID_31',\n",
      "       'brandID_35', 'brandID_36', 'weekday_1', 'weekday_2', 'weekday_3',\n",
      "       'weekday_4', 'weekday_5', 'weekday_6', 'attribute1', 'attribute2',\n",
      "       'attribute3', 'attribute4', 'clickVolume', 'avgOriginalUnitPrice',\n",
      "       'avgFinalUnitPrice', 'ma14SalesVolume', 'meanAge', 'gender',\n",
      "       'meanEducation', 'maritalStatus', 'plus', 'meanPurchasePower',\n",
      "       'meanUserLevel', 'meanCityLevel'],\n",
      "      dtype='object')\n",
      "Index(['productID_1', 'productID_2', 'productID_3', 'productID_6',\n",
      "       'productID_7', 'productID_13', 'productID_14', 'productID_15',\n",
      "       'productID_17', 'productID_20', 'productID_24', 'productID_26',\n",
      "       'productID_28', 'productID_33', 'productID_37', 'productID_38',\n",
      "       'productID_40', 'productID_41', 'productID_42', 'productID_43',\n",
      "       'productID_45', 'productID_51', 'productID_52', 'productID_57',\n",
      "       'productID_58', 'productID_61', 'productID_62', 'productID_64',\n",
      "       'productID_65', 'productID_68', 'productID_72', 'productID_73',\n",
      "       'productID_75', 'productID_76', 'productID_78', 'productID_81',\n",
      "       'productID_82', 'productID_85', 'productID_87', 'productID_88',\n",
      "       'productID_90', 'productID_91', 'productID_92', 'productID_93',\n",
      "       'productID_96', 'productID_97', 'productID_99', 'brandID_1',\n",
      "       'brandID_3', 'brandID_4', 'brandID_5', 'brandID_8', 'brandID_10',\n",
      "       'brandID_11', 'brandID_13', 'brandID_14', 'brandID_15', 'brandID_17',\n",
      "       'brandID_18', 'brandID_19', 'brandID_20', 'brandID_23', 'brandID_25',\n",
      "       'brandID_26', 'brandID_27', 'brandID_29', 'brandID_31', 'brandID_35',\n",
      "       'brandID_36', 'weekday_1', 'weekday_2', 'weekday_3', 'weekday_4',\n",
      "       'weekday_5', 'attribute1', 'attribute2', 'attribute3', 'attribute4',\n",
      "       'clickVolume', 'avgOriginalUnitPrice', 'avgFinalUnitPrice',\n",
      "       'ma14SalesVolume', 'meanAge', 'gender', 'meanEducation',\n",
      "       'maritalStatus', 'plus', 'meanPurchasePower', 'meanUserLevel',\n",
      "       'meanCityLevel'],\n",
      "      dtype='object')\n"
     ]
    }
   ],
   "source": [
    "# feature selection based on best lasso result, check columns whose coeficients are not zero\n",
    "kf = KFold(n_splits=10, random_state = 24, shuffle = True)\n",
    "for train_index, test_index in kf.split(scaled_df):\n",
    "        X_train = scaled_df.iloc[train_index]\n",
    "        y_train = y.iloc[train_index]\n",
    "        X_test = scaled_df.iloc[test_index]\n",
    "        y_test = y.iloc[test_index]\n",
    "        lasso=Lasso(alpha=0.01)\n",
    "        lasso.fit(X_train, y_train)\n",
    "        print(scaled_df.columns[abs(lasso.coef_)>0.0001])\n",
    "\n"
   ]
  },
  {
   "attachments": {},
   "cell_type": "markdown",
   "id": "d0ce16d4",
   "metadata": {},
   "source": [
    "This shows that all attributes are significant as lasso regression does not drop any attribute"
   ]
  },
  {
   "attachments": {},
   "cell_type": "markdown",
   "id": "bf46c373",
   "metadata": {},
   "source": [
    "By observing the results of Lasso and Ridge, we notice that the results are close. Thus we will proceed adding interating terms using these two methods. The interacting terms are chosen based on real-life relationships and correlation matrix. \n",
    "We will only keep those  interacting terms that greatly decreses mse "
   ]
  },
  {
   "attachments": {},
   "cell_type": "markdown",
   "id": "61030467",
   "metadata": {},
   "source": [
    "<h2> 2.2 Tuning Ridge & Lasso Regression with interaction terms, taking alpha_values = [0.01,0.1,1,5,10,50,100]"
   ]
  },
  {
   "attachments": {},
   "cell_type": "markdown",
   "id": "9838b4da",
   "metadata": {},
   "source": [
    "<h4> 2.2.1 Tuning using interaction terms  \n",
    "<br>'avgOriginalUnitPrice * avgFinalUnitPrice'\n",
    "\n"
   ]
  },
  {
   "cell_type": "code",
   "execution_count": 12,
   "id": "18ba8bb8",
   "metadata": {},
   "outputs": [
    {
     "name": "stdout",
     "output_type": "stream",
     "text": [
      "Ridge: the best alpha is  0.1\n",
      "Ridge: the best mse is  202.01896754492043\n"
     ]
    },
    {
     "name": "stderr",
     "output_type": "stream",
     "text": [
      "c:\\Users\\ren13\\anaconda3\\lib\\site-packages\\sklearn\\linear_model\\_coordinate_descent.py:631: ConvergenceWarning: Objective did not converge. You might want to increase the number of iterations, check the scale of the features or consider increasing regularisation. Duality gap: 2.862e+04, tolerance: 9.896e+01\n",
      "  model = cd_fast.enet_coordinate_descent(\n",
      "c:\\Users\\ren13\\anaconda3\\lib\\site-packages\\sklearn\\linear_model\\_coordinate_descent.py:631: ConvergenceWarning: Objective did not converge. You might want to increase the number of iterations, check the scale of the features or consider increasing regularisation. Duality gap: 2.386e+04, tolerance: 1.027e+02\n",
      "  model = cd_fast.enet_coordinate_descent(\n",
      "c:\\Users\\ren13\\anaconda3\\lib\\site-packages\\sklearn\\linear_model\\_coordinate_descent.py:631: ConvergenceWarning: Objective did not converge. You might want to increase the number of iterations, check the scale of the features or consider increasing regularisation. Duality gap: 2.581e+04, tolerance: 1.055e+02\n",
      "  model = cd_fast.enet_coordinate_descent(\n",
      "c:\\Users\\ren13\\anaconda3\\lib\\site-packages\\sklearn\\linear_model\\_coordinate_descent.py:631: ConvergenceWarning: Objective did not converge. You might want to increase the number of iterations, check the scale of the features or consider increasing regularisation. Duality gap: 3.203e+04, tolerance: 1.055e+02\n",
      "  model = cd_fast.enet_coordinate_descent(\n",
      "c:\\Users\\ren13\\anaconda3\\lib\\site-packages\\sklearn\\linear_model\\_coordinate_descent.py:631: ConvergenceWarning: Objective did not converge. You might want to increase the number of iterations, check the scale of the features or consider increasing regularisation. Duality gap: 3.027e+04, tolerance: 1.073e+02\n",
      "  model = cd_fast.enet_coordinate_descent(\n",
      "c:\\Users\\ren13\\anaconda3\\lib\\site-packages\\sklearn\\linear_model\\_coordinate_descent.py:631: ConvergenceWarning: Objective did not converge. You might want to increase the number of iterations, check the scale of the features or consider increasing regularisation. Duality gap: 2.757e+04, tolerance: 1.079e+02\n",
      "  model = cd_fast.enet_coordinate_descent(\n",
      "c:\\Users\\ren13\\anaconda3\\lib\\site-packages\\sklearn\\linear_model\\_coordinate_descent.py:631: ConvergenceWarning: Objective did not converge. You might want to increase the number of iterations, check the scale of the features or consider increasing regularisation. Duality gap: 2.994e+04, tolerance: 9.916e+01\n",
      "  model = cd_fast.enet_coordinate_descent(\n",
      "c:\\Users\\ren13\\anaconda3\\lib\\site-packages\\sklearn\\linear_model\\_coordinate_descent.py:631: ConvergenceWarning: Objective did not converge. You might want to increase the number of iterations, check the scale of the features or consider increasing regularisation. Duality gap: 2.944e+04, tolerance: 1.027e+02\n",
      "  model = cd_fast.enet_coordinate_descent(\n",
      "c:\\Users\\ren13\\anaconda3\\lib\\site-packages\\sklearn\\linear_model\\_coordinate_descent.py:631: ConvergenceWarning: Objective did not converge. You might want to increase the number of iterations, check the scale of the features or consider increasing regularisation. Duality gap: 2.329e+04, tolerance: 1.013e+02\n",
      "  model = cd_fast.enet_coordinate_descent(\n",
      "c:\\Users\\ren13\\anaconda3\\lib\\site-packages\\sklearn\\linear_model\\_coordinate_descent.py:631: ConvergenceWarning: Objective did not converge. You might want to increase the number of iterations, check the scale of the features or consider increasing regularisation. Duality gap: 2.197e+04, tolerance: 9.759e+01\n",
      "  model = cd_fast.enet_coordinate_descent(\n"
     ]
    },
    {
     "name": "stdout",
     "output_type": "stream",
     "text": [
      "Lasso: the best alpha is  0.01\n",
      "Lasso: the best mse is  202.3860511786856\n"
     ]
    }
   ],
   "source": [
    "# adding interracting terms\n",
    "not_scaled_df1 = not_scaled_df.copy()\n",
    "not_scaled_df1['avgOriginalUnitPrice * avgFinalUnitPrice'] = not_scaled_df['avgOriginalUnitPrice'] * not_scaled_df['avgFinalUnitPrice']\n",
    "# scaling\n",
    "\n",
    "not_scaled_df1 = pd.DataFrame(ss.fit_transform(not_scaled_df1), columns = not_scaled_df1.columns)\n",
    "\n",
    "\n",
    "# Ridge Regression\n",
    "alpha_values = [0.01,0.1,1,5,10,50,100]\n",
    "best_alpha_Ridge1 = 0\n",
    "best_mse_Ridge1 = 10**20\n",
    "for alpha in alpha_values:\n",
    "    res_Ridge1 = Ridge_KFold_MSE(not_scaled_df1, alpha)\n",
    "    current_mse = np.mean(res_Ridge1)\n",
    "    if (current_mse < best_mse_Ridge1):\n",
    "        best_alpha_Ridge1 = alpha\n",
    "        best_mse_Ridge1 = current_mse     \n",
    "print(\"Ridge: the best alpha is \", best_alpha_Ridge1)\n",
    "print(\"Ridge: the best mse is \", best_mse_Ridge1)\n",
    "\n",
    "# Lasso Regression\n",
    "best_alpha_Lasso1 = 0\n",
    "best_mse_Lasso1 = 10**20\n",
    "for alpha in alpha_values:\n",
    "    res_Lasso1 = Lasso_KFold_MSE(not_scaled_df1, alpha)\n",
    "    current_mse = np.mean(res_Lasso1)\n",
    "    if (current_mse < best_mse_Lasso1):\n",
    "        best_alpha_Lasso1 = alpha\n",
    "        best_mse_Lasso1 = current_mse     \n",
    "print(\"Lasso: the best alpha is \", best_alpha_Lasso1)\n",
    "print(\"Lasso: the best mse is \", best_mse_Lasso1)\n"
   ]
  },
  {
   "attachments": {},
   "cell_type": "markdown",
   "id": "a81d2692",
   "metadata": {},
   "source": [
    "<h4> 2.2.2 Tuning using interaction terms \n",
    "<br>'avgOriginalUnitPrice * avgFinalUnitPrice'\n",
    "<br>'clickVolume * avgFinalUnitPrice'\n"
   ]
  },
  {
   "cell_type": "code",
   "execution_count": 14,
   "id": "bb8474ea",
   "metadata": {},
   "outputs": [
    {
     "name": "stdout",
     "output_type": "stream",
     "text": [
      "Ridge: the best alpha is  0.1\n",
      "Ridge: the best mse is  167.89975376346064\n"
     ]
    },
    {
     "name": "stderr",
     "output_type": "stream",
     "text": [
      "c:\\Users\\ren13\\anaconda3\\lib\\site-packages\\sklearn\\linear_model\\_coordinate_descent.py:631: ConvergenceWarning: Objective did not converge. You might want to increase the number of iterations, check the scale of the features or consider increasing regularisation. Duality gap: 4.239e+03, tolerance: 9.896e+01\n",
      "  model = cd_fast.enet_coordinate_descent(\n",
      "c:\\Users\\ren13\\anaconda3\\lib\\site-packages\\sklearn\\linear_model\\_coordinate_descent.py:631: ConvergenceWarning: Objective did not converge. You might want to increase the number of iterations, check the scale of the features or consider increasing regularisation. Duality gap: 2.802e+03, tolerance: 1.027e+02\n",
      "  model = cd_fast.enet_coordinate_descent(\n",
      "c:\\Users\\ren13\\anaconda3\\lib\\site-packages\\sklearn\\linear_model\\_coordinate_descent.py:631: ConvergenceWarning: Objective did not converge. You might want to increase the number of iterations, check the scale of the features or consider increasing regularisation. Duality gap: 6.348e+03, tolerance: 1.055e+02\n",
      "  model = cd_fast.enet_coordinate_descent(\n",
      "c:\\Users\\ren13\\anaconda3\\lib\\site-packages\\sklearn\\linear_model\\_coordinate_descent.py:631: ConvergenceWarning: Objective did not converge. You might want to increase the number of iterations, check the scale of the features or consider increasing regularisation. Duality gap: 6.009e+03, tolerance: 1.055e+02\n",
      "  model = cd_fast.enet_coordinate_descent(\n",
      "c:\\Users\\ren13\\anaconda3\\lib\\site-packages\\sklearn\\linear_model\\_coordinate_descent.py:631: ConvergenceWarning: Objective did not converge. You might want to increase the number of iterations, check the scale of the features or consider increasing regularisation. Duality gap: 3.508e+03, tolerance: 1.073e+02\n",
      "  model = cd_fast.enet_coordinate_descent(\n",
      "c:\\Users\\ren13\\anaconda3\\lib\\site-packages\\sklearn\\linear_model\\_coordinate_descent.py:631: ConvergenceWarning: Objective did not converge. You might want to increase the number of iterations, check the scale of the features or consider increasing regularisation. Duality gap: 4.697e+03, tolerance: 1.079e+02\n",
      "  model = cd_fast.enet_coordinate_descent(\n",
      "c:\\Users\\ren13\\anaconda3\\lib\\site-packages\\sklearn\\linear_model\\_coordinate_descent.py:631: ConvergenceWarning: Objective did not converge. You might want to increase the number of iterations, check the scale of the features or consider increasing regularisation. Duality gap: 2.797e+03, tolerance: 9.916e+01\n",
      "  model = cd_fast.enet_coordinate_descent(\n",
      "c:\\Users\\ren13\\anaconda3\\lib\\site-packages\\sklearn\\linear_model\\_coordinate_descent.py:631: ConvergenceWarning: Objective did not converge. You might want to increase the number of iterations, check the scale of the features or consider increasing regularisation. Duality gap: 6.418e+03, tolerance: 1.027e+02\n",
      "  model = cd_fast.enet_coordinate_descent(\n",
      "c:\\Users\\ren13\\anaconda3\\lib\\site-packages\\sklearn\\linear_model\\_coordinate_descent.py:631: ConvergenceWarning: Objective did not converge. You might want to increase the number of iterations, check the scale of the features or consider increasing regularisation. Duality gap: 3.485e+03, tolerance: 1.013e+02\n",
      "  model = cd_fast.enet_coordinate_descent(\n",
      "c:\\Users\\ren13\\anaconda3\\lib\\site-packages\\sklearn\\linear_model\\_coordinate_descent.py:631: ConvergenceWarning: Objective did not converge. You might want to increase the number of iterations, check the scale of the features or consider increasing regularisation. Duality gap: 3.757e+03, tolerance: 9.759e+01\n",
      "  model = cd_fast.enet_coordinate_descent(\n"
     ]
    },
    {
     "name": "stdout",
     "output_type": "stream",
     "text": [
      "Lasso: the best alpha is  0.01\n",
      "Lasso: the best mse is  167.97370141630745\n"
     ]
    }
   ],
   "source": [
    "# adding interracting terms\n",
    "not_scaled_df2 = not_scaled_df.copy()\n",
    "not_scaled_df2['avgOriginalUnitPrice * avgFinalUnitPrice'] = not_scaled_df['avgOriginalUnitPrice'] * not_scaled_df['avgFinalUnitPrice']\n",
    "not_scaled_df2['clickVolume*avgFinalUnitPrice'] = not_scaled_df['clickVolume'] * not_scaled_df['avgFinalUnitPrice']\n",
    "# scaling\n",
    "not_scaled_df2 = pd.DataFrame(ss.fit_transform(not_scaled_df2), columns = not_scaled_df2.columns)\n",
    "\n",
    "\n",
    "# Ridge Regression\n",
    "alpha_values = [0.01,0.1,1,5,10,50,100]\n",
    "best_alpha_Ridge2 = 0\n",
    "best_mse_Ridge2 = 10**20\n",
    "for alpha in alpha_values:\n",
    "    res_Ridge2 = Ridge_KFold_MSE(not_scaled_df2, alpha)\n",
    "    current_mse = np.mean(res_Ridge2)\n",
    "    if (current_mse < best_mse_Ridge2):\n",
    "        best_alpha_Ridge2 = alpha\n",
    "        best_mse_Ridge2 = current_mse     \n",
    "print(\"Ridge: the best alpha is \", best_alpha_Ridge2)\n",
    "print(\"Ridge: the best mse is \", best_mse_Ridge2)\n",
    "\n",
    "# Lasso Regression\n",
    "\n",
    "best_alpha_Lasso2 = 0\n",
    "best_mse_Lasso2 = 10**20\n",
    "for alpha in alpha_values:\n",
    "    res_Lasso2 = Lasso_KFold_MSE(not_scaled_df2, alpha)\n",
    "    current_mse = np.mean(res_Lasso2)\n",
    "    if (current_mse < best_mse_Lasso2):\n",
    "        best_alpha_Lasso2 = alpha\n",
    "        best_mse_Lasso2 = current_mse     \n",
    "print(\"Lasso: the best alpha is \", best_alpha_Lasso2)\n",
    "print(\"Lasso: the best mse is \", best_mse_Lasso2)\n"
   ]
  },
  {
   "attachments": {},
   "cell_type": "markdown",
   "id": "e2b2b467",
   "metadata": {},
   "source": [
    "Although we tried out more complicated models, new interaction terms failed to decrease MSE significantly (change > 5). Considering the trade-off between model complexity and MSE, we will choose these two interaction terms as the best combination.\n",
    "\n",
    "Between Lasso and Ridge regression, the final MSE is very close. The reason for this might be:\n",
    "\n",
    "Due to the nature of Ridge regression and lasso regression, Ridge regression uses all attributes while lasso only uses the more significant ones. However, in our case, lasso used all attributes, which leads to similar results.\n"
   ]
  }
 ],
 "metadata": {
  "kernelspec": {
   "display_name": "Python 3 (ipykernel)",
   "language": "python",
   "name": "python3"
  },
  "language_info": {
   "codemirror_mode": {
    "name": "ipython",
    "version": 3
   },
   "file_extension": ".py",
   "mimetype": "text/x-python",
   "name": "python",
   "nbconvert_exporter": "python",
   "pygments_lexer": "ipython3",
   "version": "3.9.16"
  }
 },
 "nbformat": 4,
 "nbformat_minor": 5
}
