{
 "cells": [
  {
   "cell_type": "code",
   "execution_count": 156,
   "metadata": {},
   "outputs": [],
   "source": [
    "import numpy as np\n",
    "import pandas as pd\n",
    "import os\n",
    "from dataset import make_dataset\n",
    "from sklearn.ensemble import GradientBoostingRegressor\n",
    "from sklearn.preprocessing import StandardScaler, OneHotEncoder"
   ]
  },
  {
   "cell_type": "code",
   "execution_count": 157,
   "metadata": {},
   "outputs": [],
   "source": [
    "ss, not_scaled_df, scaled_df, data_train = make_dataset()\n",
    "data_test = pd.read_csv('Data-test.csv', index_col=0)"
   ]
  },
  {
   "cell_type": "code",
   "execution_count": 158,
   "metadata": {},
   "outputs": [],
   "source": [
    "# remove outliers from scaled and non_scaled dataframes\n",
    "scaled_df = scaled_df.loc[scaled_df['sales'] <= 200].reset_index(drop=True)\n",
    "not_scaled_df = not_scaled_df.loc[not_scaled_df['sales'] <= 200].reset_index(drop=True)"
   ]
  },
  {
   "cell_type": "code",
   "execution_count": 159,
   "metadata": {},
   "outputs": [],
   "source": [
    "# creating the model\n",
    "gbr = GradientBoostingRegressor(ccp_alpha=0, learning_rate=0.05, max_depth=3, min_samples_split=8, n_estimators=1500, random_state=24)\n",
    "\n",
    "# # screating scaler and OHE object\n",
    "ss = StandardScaler()\n",
    "OHE = OneHotEncoder(sparse=False)\n",
    "\n",
    "# adding interracting terms\n",
    "ss, not_scaled_df, scaled_df, data_train = make_dataset()\n",
    "not_scaled_df3 = not_scaled_df.copy()\n",
    "not_scaled_df3 = not_scaled_df3[not_scaled_df3['sales'] <= 200]\n",
    "not_scaled_df3 = not_scaled_df3.reset_index(drop=True)\n",
    "not_scaled_df3['avgOriginalUnitPrice * avgFinalUnitPrice'] = not_scaled_df['avgOriginalUnitPrice'] * not_scaled_df['avgFinalUnitPrice']\n",
    "not_scaled_df3['clickVolume*avgFinalUnitPrice'] = not_scaled_df['clickVolume'] * not_scaled_df['avgFinalUnitPrice']\n",
    "not_scaled_df3['attribute1*avgFinalUnitPrice'] = not_scaled_df3['attribute1'] * not_scaled_df3['avgFinalUnitPrice']\n",
    "not_scaled_df3['attribute2*avgFinalUnitPrice'] = not_scaled_df3['attribute2'] * not_scaled_df3['avgFinalUnitPrice']\n",
    "not_scaled_df3['attribute1*avgOriginalUnitPrice'] = not_scaled_df3['attribute1'] * not_scaled_df3['avgOriginalUnitPrice']\n",
    "not_scaled_df3['plus*meanPurchasePower'] = not_scaled_df3['plus'] * not_scaled_df3['meanPurchasePower']\n",
    "not_scaled_df3['plus*meanUserLevel'] = not_scaled_df3['plus'] * not_scaled_df3['meanUserLevel']\n",
    "not_scaled_df3['meanUserLevel*meanPurchasePower'] = not_scaled_df3['meanUserLevel'] * not_scaled_df3['meanPurchasePower']\n",
    "y = not_scaled_df3.sales\n",
    "not_scaled_df3 = not_scaled_df3.drop(['sales'], axis = 1)\n",
    "\n",
    "# scaling\n",
    "scaled_df3 = pd.DataFrame(ss.fit_transform(not_scaled_df3), columns = not_scaled_df3.columns)\n",
    "\n",
    "# creating the test set\n",
    "not_scaled_test = data_test.copy(deep=True)\n",
    "categorical_list = [\"productID\", \"brandID\", \"weekday\"]\n",
    "categorical_data = OHE.fit_transform(not_scaled_test[categorical_list])\n",
    "categorical_df = pd.DataFrame(data=categorical_data, columns=OHE.get_feature_names_out())\n",
    "not_scaled_test.drop([\"productID\", \"brandID\", \"weekday\"], axis=1, inplace=True)\n",
    "not_scaled_test['avgOriginalUnitPrice * avgFinalUnitPrice'] = not_scaled_test['avgOriginalUnitPrice'] * not_scaled_test['avgFinalUnitPrice']\n",
    "not_scaled_test['clickVolume*avgFinalUnitPrice'] = not_scaled_test['clickVolume'] * not_scaled_test['avgFinalUnitPrice']\n",
    "not_scaled_test['attribute1*avgFinalUnitPrice'] = not_scaled_test['attribute1'] * not_scaled_test['avgFinalUnitPrice']\n",
    "not_scaled_test['attribute2*avgFinalUnitPrice'] = not_scaled_test['attribute2'] * not_scaled_test['avgFinalUnitPrice']\n",
    "not_scaled_test['attribute1*avgOriginalUnitPrice'] = not_scaled_test['attribute1'] * not_scaled_test['avgOriginalUnitPrice']\n",
    "not_scaled_test['plus*meanPurchasePower'] = not_scaled_test['plus'] * not_scaled_test['meanPurchasePower']\n",
    "not_scaled_test['plus*meanUserLevel'] = not_scaled_test['plus'] * not_scaled_test['meanUserLevel']\n",
    "not_scaled_test['meanUserLevel*meanPurchasePower'] = not_scaled_test['meanUserLevel'] * not_scaled_test['meanPurchasePower']\n",
    "\n",
    "# creating the scaled test set\n",
    "not_scaled_test = pd.concat([categorical_df, not_scaled_test], axis=1)\n",
    "test_set = pd.DataFrame(ss.transform(not_scaled_test), columns=not_scaled_test.columns)\n"
   ]
  },
  {
   "cell_type": "code",
   "execution_count": 160,
   "metadata": {},
   "outputs": [
    {
     "data": {
      "text/plain": [
       "GradientBoostingRegressor(ccp_alpha=0, learning_rate=0.05, min_samples_split=8,\n",
       "                          n_estimators=1500, random_state=24)"
      ]
     },
     "execution_count": 160,
     "metadata": {},
     "output_type": "execute_result"
    }
   ],
   "source": [
    "# training the model\n",
    "gbr.fit(scaled_df3, y)"
   ]
  },
  {
   "cell_type": "code",
   "execution_count": 161,
   "metadata": {},
   "outputs": [],
   "source": [
    "# output the predicted sales\n",
    "prediction_df = pd.DataFrame(gbr.predict(test_set).round(), columns=['Prediction'])\n",
    "prediction_df.loc[prediction_df['Prediction'] < 0] = 0"
   ]
  },
  {
   "cell_type": "code",
   "execution_count": 162,
   "metadata": {},
   "outputs": [],
   "source": [
    "Y_pred_GBR = prediction_df.Prediction\n",
    "critical = 2/3\n",
    "\n",
    "prediction_df['Inventory'] = (-Y_pred_GBR * np.log(1 -critical)).round()"
   ]
  },
  {
   "cell_type": "code",
   "execution_count": null,
   "metadata": {},
   "outputs": [],
   "source": [
    "# current filepath\n",
    "current_path = os.getcwd()\n",
    "filename = current_path + 'Prediction.csv'\n",
    "print(filename)\n",
    "\n",
    "write_df = data_test.copy()\n",
    "write_df['sales'] = prediction_df['Prediction']\n",
    "write_df['inventory'] = prediction_df['Inventory']\n",
    "# write to csv\n",
    "write_df.to_csv('group04.csv')"
   ]
  }
 ],
 "metadata": {
  "kernelspec": {
   "display_name": "Python 3",
   "language": "python",
   "name": "python3"
  },
  "language_info": {
   "codemirror_mode": {
    "name": "ipython",
    "version": 3
   },
   "file_extension": ".py",
   "mimetype": "text/x-python",
   "name": "python",
   "nbconvert_exporter": "python",
   "pygments_lexer": "ipython3",
   "version": "3.10.1"
  },
  "orig_nbformat": 4
 },
 "nbformat": 4,
 "nbformat_minor": 2
}
