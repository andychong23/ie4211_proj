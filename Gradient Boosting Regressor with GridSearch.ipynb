{
 "cells": [
  {
   "cell_type": "code",
   "execution_count": 1,
   "metadata": {},
   "outputs": [],
   "source": [
    "import numpy as np\n",
    "import pandas as pd\n",
    "import matplotlib.pyplot as plt\n",
    "from sklearn.preprocessing import OneHotEncoder, StandardScaler, PolynomialFeatures\n",
    "from sklearn.ensemble import GradientBoostingRegressor\n",
    "from sklearn.model_selection import train_test_split\n",
    "from sklearn.model_selection import KFold\n",
    "from sklearn.metrics import mean_squared_error\n",
    "from sklearn.model_selection import GridSearchCV\n",
    "from dataset import make_dataset"
   ]
  },
  {
   "attachments": {},
   "cell_type": "markdown",
   "metadata": {},
   "source": [
    "<h1> 0. Final Result"
   ]
  },
  {
   "cell_type": "code",
   "execution_count": 2,
   "metadata": {},
   "outputs": [
    {
     "data": {
      "text/html": [
       "<div>\n",
       "<style scoped>\n",
       "    .dataframe tbody tr th:only-of-type {\n",
       "        vertical-align: middle;\n",
       "    }\n",
       "\n",
       "    .dataframe tbody tr th {\n",
       "        vertical-align: top;\n",
       "    }\n",
       "\n",
       "    .dataframe thead th {\n",
       "        text-align: right;\n",
       "    }\n",
       "</style>\n",
       "<table border=\"1\" class=\"dataframe\">\n",
       "  <thead>\n",
       "    <tr style=\"text-align: right;\">\n",
       "      <th></th>\n",
       "      <th>Model</th>\n",
       "      <th>MSE</th>\n",
       "    </tr>\n",
       "  </thead>\n",
       "  <tbody>\n",
       "    <tr>\n",
       "      <th>0</th>\n",
       "      <td>2.12</td>\n",
       "      <td>125.181545</td>\n",
       "    </tr>\n",
       "    <tr>\n",
       "      <th>1</th>\n",
       "      <td>2.10</td>\n",
       "      <td>126.756514</td>\n",
       "    </tr>\n",
       "    <tr>\n",
       "      <th>2</th>\n",
       "      <td>2.11</td>\n",
       "      <td>130.522570</td>\n",
       "    </tr>\n",
       "    <tr>\n",
       "      <th>3</th>\n",
       "      <td>2.07</td>\n",
       "      <td>131.364932</td>\n",
       "    </tr>\n",
       "    <tr>\n",
       "      <th>4</th>\n",
       "      <td>2.06</td>\n",
       "      <td>132.503912</td>\n",
       "    </tr>\n",
       "    <tr>\n",
       "      <th>5</th>\n",
       "      <td>2.08</td>\n",
       "      <td>133.042414</td>\n",
       "    </tr>\n",
       "    <tr>\n",
       "      <th>6</th>\n",
       "      <td>2.09</td>\n",
       "      <td>133.815309</td>\n",
       "    </tr>\n",
       "    <tr>\n",
       "      <th>7</th>\n",
       "      <td>2.04</td>\n",
       "      <td>134.322446</td>\n",
       "    </tr>\n",
       "    <tr>\n",
       "      <th>8</th>\n",
       "      <td>2.03</td>\n",
       "      <td>135.994484</td>\n",
       "    </tr>\n",
       "    <tr>\n",
       "      <th>9</th>\n",
       "      <td>2.02</td>\n",
       "      <td>136.029166</td>\n",
       "    </tr>\n",
       "    <tr>\n",
       "      <th>10</th>\n",
       "      <td>2.05</td>\n",
       "      <td>136.196248</td>\n",
       "    </tr>\n",
       "    <tr>\n",
       "      <th>11</th>\n",
       "      <td>2.01</td>\n",
       "      <td>137.780182</td>\n",
       "    </tr>\n",
       "  </tbody>\n",
       "</table>\n",
       "</div>"
      ],
      "text/plain": [
       "    Model         MSE\n",
       "0    2.12  125.181545\n",
       "1    2.10  126.756514\n",
       "2    2.11  130.522570\n",
       "3    2.07  131.364932\n",
       "4    2.06  132.503912\n",
       "5    2.08  133.042414\n",
       "6    2.09  133.815309\n",
       "7    2.04  134.322446\n",
       "8    2.03  135.994484\n",
       "9    2.02  136.029166\n",
       "10   2.05  136.196248\n",
       "11   2.01  137.780182"
      ]
     },
     "execution_count": 2,
     "metadata": {},
     "output_type": "execute_result"
    }
   ],
   "source": [
    "MSE_sale ={'Model': [2.01, 2.02, 2.03, 2.04, 2.05, 2.06, 2.07, 2.08, 2.09, 2.10, 2.11, 2.12],\n",
    "           'MSE': [137.7801818767695, 136.02916576894353, 135.99448363900683, 134.3224461200231, 136.19624750541766, 132.50391214319876\n",
    "                   , 131.3649323422473, 133.04241442728107, 133.815309206687, 126.75651447602657, 130.5225702866221, 125.18154478043498]}\n",
    "MSE_sale = pd.DataFrame(MSE_sale)\n",
    "MSE_sorted = MSE_sale.sort_values(by='MSE')\n",
    "MSE_sorted.reset_index(drop=True)"
   ]
  },
  {
   "attachments": {},
   "cell_type": "markdown",
   "metadata": {},
   "source": [
    "Based on the results, model 2.12 produces the lowest MSE. Thus, this is the best GradientBoostingRegressor model. <br>\n",
    "\n",
    "X: scaled_df with interacting terms listed below: <br>\n",
    "avgOriginalUnitPrice * avgFinalUnitPrice, clickVolume * avgFinalUnitPrice, attribute1 * avgFinalUnitPrice, attribute2 * avgFinalUnitPrice, attribute1 * avgOriginalUnitPrice, plus * meanPurchasePower, plus * meanUserLevel, meanUserLevel * meanPurchasePower <br>\n",
    "\n",
    "y: sales <br>\n",
    "\n",
    "Parameters: {'ccp_alpha': 0, 'learning_rate': 0.05, 'max_depth': 3, 'min_samples_split': 8, 'n_estimators': 1500, 'random_state': 24}\n"
   ]
  },
  {
   "attachments": {},
   "cell_type": "markdown",
   "metadata": {},
   "source": [
    "<h1> 1. Data Processing"
   ]
  },
  {
   "attachments": {},
   "cell_type": "markdown",
   "metadata": {},
   "source": [
    "<h3> 1.1 Import Data"
   ]
  },
  {
   "cell_type": "code",
   "execution_count": 9,
   "metadata": {},
   "outputs": [],
   "source": [
    "# importing training data set\n",
    "\n",
    "ss, not_scaled_df, scaled_df, data_train = make_dataset()\n",
    "\n",
    "# column indexes for non-categorical data\n",
    "required_cols = scaled_df.columns[106:]\n",
    "\n",
    "# scaler to be used to standardise misc\n",
    "random_ss = StandardScaler()"
   ]
  },
  {
   "attachments": {},
   "cell_type": "markdown",
   "metadata": {},
   "source": [
    "<h3> 1.2 Filter Data"
   ]
  },
  {
   "cell_type": "code",
   "execution_count": 10,
   "metadata": {},
   "outputs": [],
   "source": [
    "# remove outliers from scaled and non_scaled dataframes\n",
    "scaled_df = scaled_df.loc[scaled_df['sales'] <= 200].reset_index(drop=True)\n",
    "not_scaled_df = not_scaled_df.loc[not_scaled_df['sales'] <= 200].reset_index(drop=True)"
   ]
  },
  {
   "attachments": {},
   "cell_type": "markdown",
   "metadata": {},
   "source": [
    "<h1> 2. Gradient Boosting"
   ]
  },
  {
   "attachments": {},
   "cell_type": "markdown",
   "metadata": {},
   "source": [
    "<h4> 2.01 Grid Search on scaled_df without productID and brandID"
   ]
  },
  {
   "cell_type": "code",
   "execution_count": 5,
   "metadata": {},
   "outputs": [
    {
     "name": "stdout",
     "output_type": "stream",
     "text": [
      "The best parameter for the current model is {'ccp_alpha': 0, 'learning_rate': 0.05, 'max_depth': 3, 'min_samples_split': 2, 'n_estimators': 1500, 'random_state': 24}\n",
      "The corresponding test MSE for sales is 137.7801818767695\n"
     ]
    }
   ],
   "source": [
    "# Creating the model\n",
    "model = GradientBoostingRegressor()\n",
    "\n",
    "# Dataset used: Without categorical variables such as productID and brandID\n",
    "X = scaled_df[required_cols].drop('sales', axis=1)\n",
    "y = scaled_df.sales\n",
    "\n",
    "# Parameter grid to vary\n",
    "param_grid = {\n",
    "    'n_estimators' : [500, 1000, 1500],\n",
    "    'max_depth': [1, 3, 5],\n",
    "    'learning_rate': [0.005, 0.01, 0.05, 0.1],\n",
    "    'min_samples_split': [2, 4, 8],\n",
    "    'ccp_alpha': [0, 0.01, 0.1],\n",
    "    'random_state': [24]\n",
    "}\n",
    "\n",
    "# Creating the object to carry out GridSearchCV, with 10-Fold Cross Validation\n",
    "grid_search = GridSearchCV(estimator=model, param_grid=param_grid, scoring='neg_mean_squared_error', n_jobs=-1, cv=10, return_train_score=True)\n",
    "grid_search.fit(X,y)\n",
    "\n",
    "# Output the best parameters and its corresponding test MSE\n",
    "print(f\"The best parameter for the current model is {grid_search.best_params_}\")\n",
    "print(f\"The corresponding test MSE for sales is {np.abs(grid_search.cv_results_['mean_test_score'][grid_search.best_index_])}\")"
   ]
  },
  {
   "attachments": {},
   "cell_type": "markdown",
   "metadata": {},
   "source": [
    "<h4> 2.02 Grid Search on scaled_df wtihout productID and brandID <br>\n",
    "Interacting terms: avgOriginalUnitPrice * avgFinalUnitPrice"
   ]
  },
  {
   "cell_type": "code",
   "execution_count": 6,
   "metadata": {},
   "outputs": [
    {
     "name": "stdout",
     "output_type": "stream",
     "text": [
      "The best parameter for the current model is {'ccp_alpha': 0, 'learning_rate': 0.05, 'max_depth': 3, 'min_samples_split': 8, 'n_estimators': 1500, 'random_state': 24}\n",
      "The corresponding test MSE for sales is 136.02916576894353\n"
     ]
    }
   ],
   "source": [
    "# Creating the model\n",
    "model = GradientBoostingRegressor()\n",
    "\n",
    "# Dataset used: Without categorical variables such as productID and brandID, includes OGUnitPrice * FinalUnitPrice\n",
    "X = scaled_df[required_cols].drop('sales', axis=1)\n",
    "X['prod_OGPrice-FinalPrice'] = random_ss.fit_transform(pd.DataFrame(not_scaled_df['avgOriginalUnitPrice'] * not_scaled_df['avgFinalUnitPrice']))\n",
    "y = scaled_df.sales\n",
    "\n",
    "# Parameter grid to vary\n",
    "param_grid = {\n",
    "    'n_estimators' : [500, 1000, 1500],\n",
    "    'max_depth': [1, 3, 5],\n",
    "    'learning_rate': [0.005, 0.01, 0.05, 0.1],\n",
    "    'min_samples_split': [2, 4, 8],\n",
    "    'ccp_alpha': [0, 0.01, 0.1],\n",
    "    'random_state': [24]\n",
    "}\n",
    "\n",
    "# Creating the object to carry out GridSearchCV, with 10-Fold Cross Validation\n",
    "grid_search = GridSearchCV(estimator=model, param_grid=param_grid, scoring='neg_mean_squared_error', n_jobs=-1, cv=10, return_train_score=True)\n",
    "grid_search.fit(X,y)\n",
    "\n",
    "# Output the best parameters and its corresponding test MSE\n",
    "print(f\"The best parameter for the current model is {grid_search.best_params_}\")\n",
    "print(f\"The corresponding test MSE for sales is {np.abs(grid_search.cv_results_['mean_test_score'][grid_search.best_index_])}\")"
   ]
  },
  {
   "attachments": {},
   "cell_type": "markdown",
   "metadata": {},
   "source": [
    "<h4> 2.03 Grid Search on scaled_df without productID and brandID <br>\n",
    "Interacting terms: attribute1 * attribute2"
   ]
  },
  {
   "cell_type": "code",
   "execution_count": 7,
   "metadata": {},
   "outputs": [
    {
     "name": "stdout",
     "output_type": "stream",
     "text": [
      "The best parameter for the current model is {'ccp_alpha': 0, 'learning_rate': 0.05, 'max_depth': 3, 'min_samples_split': 4, 'n_estimators': 1500, 'random_state': 24}\n",
      "The corresponding test MSE for sales is 135.99448363900683\n"
     ]
    }
   ],
   "source": [
    "# Creating the model\n",
    "model = GradientBoostingRegressor()\n",
    "\n",
    "# Dataset used: Without categorical variables such as productID and brandID, includes attribute1 * attribute 2\n",
    "X = scaled_df[required_cols].drop('sales', axis=1)\n",
    "X['prod_att1-att2'] = random_ss.fit_transform(pd.DataFrame(not_scaled_df['attribute1'] * not_scaled_df['attribute2']))\n",
    "y = scaled_df.sales\n",
    "\n",
    "# Parameter grid to vary\n",
    "param_grid = {\n",
    "    'n_estimators' : [500, 1000, 1500],\n",
    "    'max_depth': [1, 3, 5],\n",
    "    'learning_rate': [0.005, 0.01, 0.05, 0.1],\n",
    "    'min_samples_split': [2, 4, 8],\n",
    "    'ccp_alpha': [0, 0.01, 0.1],\n",
    "    'random_state': [24]\n",
    "}\n",
    "\n",
    "# Creating the object to carry out GridSearchCV, with 10-Fold Cross Validation\n",
    "grid_search = GridSearchCV(estimator=model, param_grid=param_grid, scoring='neg_mean_squared_error', n_jobs=-1, cv=10, return_train_score=True)\n",
    "grid_search.fit(X,y)\n",
    "\n",
    "# Output the best parameters and its corresponding test MSE\n",
    "print(f\"The best parameter for the current model is {grid_search.best_params_}\")\n",
    "print(f\"The corresponding test MSE for sales is {np.abs(grid_search.cv_results_['mean_test_score'][grid_search.best_index_])}\")"
   ]
  },
  {
   "attachments": {},
   "cell_type": "markdown",
   "metadata": {},
   "source": [
    "<h4> 2.04 Grid Search on scaled_df wtihout productID and brandID <br>\n",
    "Interacting terms: attribute1 * avgOriginalUnitPrice"
   ]
  },
  {
   "cell_type": "code",
   "execution_count": 8,
   "metadata": {},
   "outputs": [
    {
     "name": "stdout",
     "output_type": "stream",
     "text": [
      "The best parameter for the current model is {'ccp_alpha': 0, 'learning_rate': 0.1, 'max_depth': 3, 'min_samples_split': 2, 'n_estimators': 1500, 'random_state': 24}\n",
      "The corresponding test MSE for sales is 134.3224461200231\n"
     ]
    }
   ],
   "source": [
    "# Creating the model\n",
    "model = GradientBoostingRegressor()\n",
    "\n",
    "# Dataset used: Without categorical variables such as productID and brandID, includes attribute1 * avgOriginalUnitPrice\n",
    "X = scaled_df[required_cols].drop('sales', axis=1)\n",
    "X['prod_att1-OGPrice'] = random_ss.fit_transform(pd.DataFrame(not_scaled_df['attribute1'] * not_scaled_df['avgOriginalUnitPrice']))\n",
    "y = scaled_df.sales\n",
    "\n",
    "# Parameter grid to vary\n",
    "param_grid = {\n",
    "    'n_estimators' : [500, 1000, 1500],\n",
    "    'max_depth': [1, 3, 5],\n",
    "    'learning_rate': [0.005, 0.01, 0.05, 0.1],\n",
    "    'min_samples_split': [2, 4, 8],\n",
    "    'ccp_alpha': [0, 0.01, 0.1],\n",
    "    'random_state': [24]\n",
    "}\n",
    "\n",
    "# Creating the object to carry out GridSearchCV, with 10-Fold Cross Validation\n",
    "grid_search = GridSearchCV(estimator=model, param_grid=param_grid, scoring='neg_mean_squared_error', n_jobs=-1, cv=10, return_train_score=True)\n",
    "grid_search.fit(X,y)\n",
    "\n",
    "# Output the best parameters and its corresponding test MSE\n",
    "print(f\"The best parameter for the current model is {grid_search.best_params_}\")\n",
    "print(f\"The corresponding test MSE for sales is {np.abs(grid_search.cv_results_['mean_test_score'][grid_search.best_index_])}\")"
   ]
  },
  {
   "attachments": {},
   "cell_type": "markdown",
   "metadata": {},
   "source": [
    "<h4> 2.05 Grid Search on scaled_df without productID and brandID <br>\n",
    "Interacting terms: avgOriginalUnitPrice * avgFinalUnitPrice, attribute1 * attribute2"
   ]
  },
  {
   "cell_type": "code",
   "execution_count": 9,
   "metadata": {},
   "outputs": [
    {
     "name": "stdout",
     "output_type": "stream",
     "text": [
      "The best parameter for the current model is {'ccp_alpha': 0, 'learning_rate': 0.1, 'max_depth': 3, 'min_samples_split': 2, 'n_estimators': 1500, 'random_state': 24}\n",
      "The corresponding test MSE for sales is 136.19624750541766\n"
     ]
    }
   ],
   "source": [
    "# Creating the model\n",
    "model = GradientBoostingRegressor()\n",
    "\n",
    "# Dataset used: Without categorical variables such as productID and brandID, includes OGUnitPrice * FinalUnitPrice, attribute1 * attribute2\n",
    "X = scaled_df[required_cols].drop('sales', axis=1)\n",
    "X['prod_OGPrice-FinalPrice'] = random_ss.fit_transform(pd.DataFrame(not_scaled_df['avgOriginalUnitPrice'] * not_scaled_df['avgFinalUnitPrice']))\n",
    "X['prod_att1-att2'] = random_ss.fit_transform(pd.DataFrame(not_scaled_df['attribute1'] * not_scaled_df['attribute2']))\n",
    "y = scaled_df.sales\n",
    "\n",
    "# Parameter grid to vary\n",
    "param_grid = {\n",
    "    'n_estimators' : [500, 1000, 1500],\n",
    "    'max_depth': [1, 3, 5],\n",
    "    'learning_rate': [0.005, 0.01, 0.05, 0.1],\n",
    "    'min_samples_split': [2, 4, 8],\n",
    "    'ccp_alpha': [0],\n",
    "    'random_state': [24]\n",
    "}\n",
    "\n",
    "# Creating the object to carry out GridSearchCV, with 10-Fold Cross Validation\n",
    "grid_search = GridSearchCV(estimator=model, param_grid=param_grid, scoring='neg_mean_squared_error', n_jobs=-1, cv=10, return_train_score=True)\n",
    "grid_search.fit(X,y)\n",
    "\n",
    "# Output the best parameters and its corresponding test MSE\n",
    "print(f\"The best parameter for the current model is {grid_search.best_params_}\")\n",
    "print(f\"The corresponding test MSE for sales is {np.abs(grid_search.cv_results_['mean_test_score'][grid_search.best_index_])}\")"
   ]
  },
  {
   "attachments": {},
   "cell_type": "markdown",
   "metadata": {},
   "source": [
    "<h4> 2.06 Grid Search on scaled_Df without productID and brandID <br>\n",
    "Interacting terms: avgOriginalUnitPrice * avgFinalUnitPrice, attribute1 * attribute2 , attribute1 * avgOriginalUnitPrice"
   ]
  },
  {
   "cell_type": "code",
   "execution_count": 10,
   "metadata": {},
   "outputs": [
    {
     "name": "stdout",
     "output_type": "stream",
     "text": [
      "The best parameter for the current model is {'ccp_alpha': 0, 'learning_rate': 0.1, 'max_depth': 3, 'min_samples_split': 2, 'n_estimators': 1500, 'random_state': 24}\n",
      "The corresponding test MSE for sales is 132.50391214319876\n"
     ]
    }
   ],
   "source": [
    "# Creating the model\n",
    "model = GradientBoostingRegressor()\n",
    "\n",
    "# Dataset used: Without categorical variables such as productID and brandID, includes OGUnitPrice * FinalUnitPrice, attribute1 * attribute2, attribute1 * OGUnitPrice\n",
    "X = scaled_df[required_cols].drop('sales', axis=1)\n",
    "X['prod_OGPrice-FinalPrice'] = random_ss.fit_transform(pd.DataFrame(not_scaled_df['avgOriginalUnitPrice'] * not_scaled_df['avgFinalUnitPrice']))\n",
    "X['prod_att1-att2'] = random_ss.fit_transform(pd.DataFrame(not_scaled_df['attribute1'] * not_scaled_df['attribute2']))\n",
    "X['prod_att1-OGPrice'] = random_ss.fit_transform(pd.DataFrame(not_scaled_df['attribute1'] * not_scaled_df['avgOriginalUnitPrice']))\n",
    "y = scaled_df.sales\n",
    "\n",
    "# Parameter grid to vary\n",
    "param_grid = {\n",
    "    'n_estimators' : [500, 1000, 1500],\n",
    "    'max_depth': [1, 3, 5],\n",
    "    'learning_rate': [0.005, 0.01, 0.05, 0.1],\n",
    "    'min_samples_split': [2, 4, 8],\n",
    "    'ccp_alpha': [0],\n",
    "    'random_state': [24]\n",
    "}\n",
    "\n",
    "# Creating the object to carry out GridSearchCV, with 10-Fold Cross Validation\n",
    "grid_search = GridSearchCV(estimator=model, param_grid=param_grid, scoring='neg_mean_squared_error', n_jobs=-1, cv=10, return_train_score=True)\n",
    "grid_search.fit(X,y)\n",
    "\n",
    "# Output the best parameters and its corresponding test MSE\n",
    "print(f\"The best parameter for the current model is {grid_search.best_params_}\")\n",
    "print(f\"The corresponding test MSE for sales is {np.abs(grid_search.cv_results_['mean_test_score'][grid_search.best_index_])}\")"
   ]
  },
  {
   "attachments": {},
   "cell_type": "markdown",
   "metadata": {},
   "source": [
    "<h4> 2.07 Grid Search on scaled_df without productID and brandID <br>\n",
    "Interacting terms: avgOriginalUnitPrice * avgFinalUnitPrice, attribute1 * attribute2, attribute1 * avgOriginalUnitPrice, attribute1 * avgFinalUnitPrice"
   ]
  },
  {
   "cell_type": "code",
   "execution_count": 11,
   "metadata": {},
   "outputs": [
    {
     "name": "stdout",
     "output_type": "stream",
     "text": [
      "The best parameter for the current model is {'ccp_alpha': 0, 'learning_rate': 0.05, 'max_depth': 3, 'min_samples_split': 2, 'n_estimators': 1500, 'random_state': 24}\n",
      "The corresponding test MSE for sales is 131.3649323422473\n"
     ]
    }
   ],
   "source": [
    "# Creating the model\n",
    "model = GradientBoostingRegressor()\n",
    "\n",
    "# Dataset used: Without categorical variables such as productID and brandID, includes OGUnitPrice * FinalUnitPrice, attribute1 * attribute2, attribute1 * OGUnitPrice, attribute1 * FinalUnitPrice\n",
    "X = scaled_df[required_cols].drop('sales', axis=1)\n",
    "X['prod_OGPrice-FinalPrice'] = random_ss.fit_transform(pd.DataFrame(not_scaled_df['avgOriginalUnitPrice'] * not_scaled_df['avgFinalUnitPrice']))\n",
    "X['prod_att1-att2'] = random_ss.fit_transform(pd.DataFrame(not_scaled_df['attribute1'] * not_scaled_df['attribute2']))\n",
    "X['prod_att1-OGPrice'] = random_ss.fit_transform(pd.DataFrame(not_scaled_df['attribute1'] * not_scaled_df['avgOriginalUnitPrice']))\n",
    "X['prod_att1-FinalPrice'] = random_ss.fit_transform(pd.DataFrame(not_scaled_df['attribute1'] * not_scaled_df['avgFinalUnitPrice']))\n",
    "y = scaled_df.sales\n",
    "\n",
    "# Parameter grid to vary\n",
    "param_grid = {\n",
    "    'n_estimators' : [500, 1000, 1500],\n",
    "    'max_depth': [1, 3, 5],\n",
    "    'learning_rate': [0.005, 0.01, 0.05, 0.1],\n",
    "    'min_samples_split': [2, 4, 8],\n",
    "    'ccp_alpha': [0],\n",
    "    'random_state': [24]\n",
    "}\n",
    "\n",
    "# Creating the object to carry out GridSearchCV, with 10-Fold Cross Validation\n",
    "grid_search = GridSearchCV(estimator=model, param_grid=param_grid, scoring='neg_mean_squared_error', n_jobs=-1, cv=10, return_train_score=True)\n",
    "grid_search.fit(X,y)\n",
    "\n",
    "# Output the best parameters and its corresponding test MSE\n",
    "print(f\"The best parameter for the current model is {grid_search.best_params_}\")\n",
    "print(f\"The corresponding test MSE for sales is {np.abs(grid_search.cv_results_['mean_test_score'][grid_search.best_index_])}\")"
   ]
  },
  {
   "attachments": {},
   "cell_type": "markdown",
   "metadata": {},
   "source": [
    "<h4> 2.08 Grid Search on scaled_df without productID and brandID <br>\n",
    "Interacting terms: avgOriginalUnitPrice * avgFinalUnitPrice, attribute1 * attribute2, attribute1 * avgOriginalUnitPrice, attribute1 * avgFinalUnitPrice, ma14SalesVolume * avgOriginalUnitPrice"
   ]
  },
  {
   "cell_type": "code",
   "execution_count": 12,
   "metadata": {},
   "outputs": [
    {
     "name": "stdout",
     "output_type": "stream",
     "text": [
      "The best parameter for the current model is {'ccp_alpha': 0, 'learning_rate': 0.1, 'max_depth': 3, 'min_samples_split': 2, 'n_estimators': 1000, 'random_state': 24}\n",
      "The corresponding test MSE for sales is 133.04241442728107\n"
     ]
    }
   ],
   "source": [
    "# Creating the model\n",
    "model = GradientBoostingRegressor()\n",
    "\n",
    "# Dataset used: Without categorical variables such as productID and brandID, includes OGUnitPrice * FinalUnitPrice, attribute1 * attribute2, attribute1 * OGUnitPrice, attribute1 * FinalUnitPrice, salesVolume * OGUnitPrice\n",
    "X = scaled_df[required_cols].drop('sales', axis=1)\n",
    "X['prod_OGPrice-FinalPrice'] = random_ss.fit_transform(pd.DataFrame(not_scaled_df['avgOriginalUnitPrice'] * not_scaled_df['avgFinalUnitPrice']))\n",
    "X['prod_att1-att2'] = random_ss.fit_transform(pd.DataFrame(not_scaled_df['attribute1'] * not_scaled_df['attribute2']))\n",
    "X['prod_att1-OGPrice'] = random_ss.fit_transform(pd.DataFrame(not_scaled_df['attribute1'] * not_scaled_df['avgOriginalUnitPrice']))\n",
    "X['prod_att1-FinalPrice'] = random_ss.fit_transform(pd.DataFrame(not_scaled_df['attribute1'] * not_scaled_df['avgFinalUnitPrice']))\n",
    "X['prod_salesVol-OGPrice'] = random_ss.fit_transform(pd.DataFrame(not_scaled_df['ma14SalesVolume'] * not_scaled_df['avgOriginalUnitPrice']))\n",
    "y = scaled_df.sales\n",
    "\n",
    "# Parameter grid to vary\n",
    "param_grid = {\n",
    "    'n_estimators' : [500, 1000, 1500],\n",
    "    'max_depth': [1, 3, 5],\n",
    "    'learning_rate': [0.005, 0.01, 0.05, 0.1],\n",
    "    'min_samples_split': [2, 4, 8],\n",
    "    'ccp_alpha': [0],\n",
    "    'random_state': [24]\n",
    "}\n",
    "\n",
    "# Creating the object to carry out GridSearchCV, with 10-Fold Cross Validation\n",
    "grid_search = GridSearchCV(estimator=model, param_grid=param_grid, scoring='neg_mean_squared_error', n_jobs=-1, cv=10, return_train_score=True)\n",
    "grid_search.fit(X,y)\n",
    "\n",
    "# Output the best parameters and its corresponding test MSE\n",
    "print(f\"The best parameter for the current model is {grid_search.best_params_}\")\n",
    "print(f\"The corresponding test MSE for sales is {np.abs(grid_search.cv_results_['mean_test_score'][grid_search.best_index_])}\")"
   ]
  },
  {
   "attachments": {},
   "cell_type": "markdown",
   "metadata": {},
   "source": [
    "<h4> 2.09 Grid Search on scaled_df without productID and brandID <br>\n",
    "Interacting terms: avgOriginalUnitPrice * avgFinalUnitPrice, attribute1 * attribute2, attribute1 * avgOriginalUnitPrice, attribute1 * avgFinalUnitPrice, ma14SalesVolume * avgOriginalUnitPrice, ma14SalesVolume * avgFinalUnitPrice"
   ]
  },
  {
   "cell_type": "code",
   "execution_count": 13,
   "metadata": {},
   "outputs": [
    {
     "name": "stdout",
     "output_type": "stream",
     "text": [
      "The best parameter for the current model is {'ccp_alpha': 0, 'learning_rate': 0.05, 'max_depth': 3, 'min_samples_split': 2, 'n_estimators': 1500, 'random_state': 24}\n",
      "The corresponding test MSE for sales is 133.815309206687\n"
     ]
    }
   ],
   "source": [
    "# Creating the model\n",
    "model = GradientBoostingRegressor()\n",
    "\n",
    "# Dataset used: Without categorical variables such as productID and brandID, includes OGUnitPrice * FinalUnitPrice, attribute1 * attribute2, attribute1 * OGUnitPrice, attribute1 * FinalUnitPrice, salesVolume * OGUnitPrice, salesVolume * FinalUnitPrice\n",
    "X = scaled_df[required_cols].drop('sales', axis=1)\n",
    "X['prod_OGPrice-FinalPrice'] = random_ss.fit_transform(pd.DataFrame(not_scaled_df['avgOriginalUnitPrice'] * not_scaled_df['avgFinalUnitPrice']))\n",
    "X['prod_att1-att2'] = random_ss.fit_transform(pd.DataFrame(not_scaled_df['attribute1'] * not_scaled_df['attribute2']))\n",
    "X['prod_att1-OGPrice'] = random_ss.fit_transform(pd.DataFrame(not_scaled_df['attribute1'] * not_scaled_df['avgOriginalUnitPrice']))\n",
    "X['prod_att1-FinalPrice'] = random_ss.fit_transform(pd.DataFrame(not_scaled_df['attribute1'] * not_scaled_df['avgFinalUnitPrice']))\n",
    "X['prod_salesVol-OGPrice'] = random_ss.fit_transform(pd.DataFrame(not_scaled_df['ma14SalesVolume'] * not_scaled_df['avgOriginalUnitPrice']))\n",
    "X['prod_salesVol-FinalPrice'] = random_ss.fit_transform(pd.DataFrame(not_scaled_df['ma14SalesVolume'] * not_scaled_df['avgFinalUnitPrice']))\n",
    "y = scaled_df.sales\n",
    "\n",
    "# Parameter grid to vary\n",
    "param_grid = {\n",
    "    'n_estimators' : [500, 1000, 1500],\n",
    "    'max_depth': [1, 3, 5],\n",
    "    'learning_rate': [0.005, 0.01, 0.05, 0.1],\n",
    "    'min_samples_split': [2, 4, 8],\n",
    "    'ccp_alpha': [0],\n",
    "    'random_state': [24]\n",
    "}\n",
    "\n",
    "# Creating the object to carry out GridSearchCV, with 10-Fold Cross Validation\n",
    "grid_search = GridSearchCV(estimator=model, param_grid=param_grid, scoring='neg_mean_squared_error', n_jobs=-1, cv=10, return_train_score=True)\n",
    "grid_search.fit(X,y)\n",
    "\n",
    "# Output the best parameters and its corresponding test MSE\n",
    "print(f\"The best parameter for the current model is {grid_search.best_params_}\")\n",
    "print(f\"The corresponding test MSE for sales is {np.abs(grid_search.cv_results_['mean_test_score'][grid_search.best_index_])}\")"
   ]
  },
  {
   "attachments": {},
   "cell_type": "markdown",
   "metadata": {},
   "source": [
    "<h4> 2.10 Grid Search on scaled_df with product and brandID"
   ]
  },
  {
   "cell_type": "code",
   "execution_count": 13,
   "metadata": {},
   "outputs": [],
   "source": [
    "ss, not_scaled_df, scaled_df, data_train = make_dataset()\n",
    "\n",
    "# Drop outliers\n",
    "not_scaled_df = not_scaled_df[not_scaled_df['sales'] <= 200]\n",
    "not_scaled_df = not_scaled_df.reset_index(drop=True)\n",
    "\n",
    "y = not_scaled_df.sales\n",
    "not_scaled_df = not_scaled_df.drop(['sales'], axis = 1)"
   ]
  },
  {
   "cell_type": "code",
   "execution_count": 15,
   "metadata": {},
   "outputs": [
    {
     "name": "stdout",
     "output_type": "stream",
     "text": [
      "The best parameter for the current model is {'ccp_alpha': 0, 'learning_rate': 0.1, 'max_depth': 3, 'min_samples_split': 2, 'n_estimators': 1500, 'random_state': 24}\n",
      "The corresponding test MSE is 126.75651447602657\n"
     ]
    }
   ],
   "source": [
    "# adding interracting terms\n",
    "not_scaled_df1 = not_scaled_df.copy()\n",
    "not_scaled_df1['avgOriginalUnitPrice * avgFinalUnitPrice'] = not_scaled_df['avgOriginalUnitPrice'] * not_scaled_df['avgFinalUnitPrice']\n",
    "\n",
    "# scaling\n",
    "ss = StandardScaler()\n",
    "not_scaled_df1 = pd.DataFrame(ss.fit_transform(not_scaled_df1), columns = not_scaled_df1.columns)\n",
    "\n",
    "X_train = not_scaled_df1\n",
    "y_train = y\n",
    "\n",
    "gbr = GradientBoostingRegressor()\n",
    "param_grid = {\n",
    "    'n_estimators' : [500, 1000, 1500],\n",
    "    'max_depth': [1, 3, 5],\n",
    "    'learning_rate': [0.005, 0.01, 0.05, 0.1],\n",
    "    'min_samples_split': [2, 4, 8],\n",
    "    'ccp_alpha': [0],\n",
    "    'random_state': [24]\n",
    "}\n",
    "\n",
    "search1 = GridSearchCV(estimator=gbr, param_grid=param_grid, scoring='neg_mean_squared_error', n_jobs=-1, cv=10, return_train_score=True)\n",
    "search1.fit(X_train, y_train)\n",
    "print(f\"The best parameter for the current model is {search1.best_params_}\")\n",
    "print(f\"The corresponding test MSE is {np.abs(search1.cv_results_['mean_test_score'][search1.best_index_])}\")"
   ]
  },
  {
   "attachments": {},
   "cell_type": "markdown",
   "metadata": {},
   "source": [
    "<h4> 2.11 Grid Search on scaled_df with product and brandID <br>\n",
    "Interacting terms: avgOriginalUnitPrice * avgFinalUnitPrice, clickVolume * avgFinalUnitPrice"
   ]
  },
  {
   "cell_type": "code",
   "execution_count": 16,
   "metadata": {},
   "outputs": [
    {
     "name": "stdout",
     "output_type": "stream",
     "text": [
      "The best parameter for the current model is {'ccp_alpha': 0, 'learning_rate': 0.1, 'max_depth': 3, 'min_samples_split': 8, 'n_estimators': 1000, 'random_state': 24}\n",
      "The corresponding test MSE is 130.5225702866221\n"
     ]
    }
   ],
   "source": [
    "# adding interracting terms\n",
    "not_scaled_df2 = not_scaled_df.copy()\n",
    "not_scaled_df2['avgOriginalUnitPrice * avgFinalUnitPrice'] = not_scaled_df['avgOriginalUnitPrice'] * not_scaled_df['avgFinalUnitPrice']\n",
    "not_scaled_df2['clickVolume*avgFinalUnitPrice'] = not_scaled_df['clickVolume'] * not_scaled_df['avgFinalUnitPrice']\n",
    "# scaling\n",
    "ss = StandardScaler()\n",
    "not_scaled_df2 = pd.DataFrame(ss.fit_transform(not_scaled_df2), columns = not_scaled_df2.columns)\n",
    "\n",
    "X_train = not_scaled_df2\n",
    "y_train = y\n",
    "\n",
    "gbr = GradientBoostingRegressor()\n",
    "param_grid = {\n",
    "    'n_estimators' : [500, 1000, 1500],\n",
    "    'max_depth': [1, 3, 5],\n",
    "    'learning_rate': [0.005, 0.01, 0.05, 0.1],\n",
    "    'min_samples_split': [2, 4, 8],\n",
    "    'ccp_alpha': [0],\n",
    "    'random_state': [24]\n",
    "}\n",
    "\n",
    "search2 = GridSearchCV(estimator=gbr, param_grid=param_grid, scoring='neg_mean_squared_error', n_jobs=-1, cv=10, return_train_score=True)\n",
    "search2.fit(X_train, y_train)\n",
    "print(f\"The best parameter for the current model is {search2.best_params_}\")\n",
    "print(f\"The corresponding test MSE is {np.abs(search2.cv_results_['mean_test_score'][search2.best_index_])}\")"
   ]
  },
  {
   "attachments": {},
   "cell_type": "markdown",
   "metadata": {},
   "source": [
    "<h4> 2.12 Grid Search on scaled_df with product and brandID <br>\n",
    "Interacting terms: avgOriginalUnitPrice * avgFinalUnitPrice, clickVolume * avgFinalUnitPrice, attribute1 * avgFinalUnitPrice, attribute2 * avgFinalUnitPrice, attribute1 * avgOriginalUnitPrice, plus * meanPurchasePower, plus * meanUserLevel, meanUserLevel * meanPurchasePower"
   ]
  },
  {
   "cell_type": "code",
   "execution_count": 17,
   "metadata": {},
   "outputs": [
    {
     "name": "stdout",
     "output_type": "stream",
     "text": [
      "The best parameter for the current model is {'ccp_alpha': 0, 'learning_rate': 0.05, 'max_depth': 3, 'min_samples_split': 8, 'n_estimators': 1500, 'random_state': 24}\n",
      "The corresponding test MSE is 125.18154478043498\n"
     ]
    }
   ],
   "source": [
    "# adding interracting terms\n",
    "not_scaled_df3 = not_scaled_df.copy()\n",
    "not_scaled_df3['avgOriginalUnitPrice * avgFinalUnitPrice'] = not_scaled_df['avgOriginalUnitPrice'] * not_scaled_df['avgFinalUnitPrice']\n",
    "not_scaled_df3['clickVolume*avgFinalUnitPrice'] = not_scaled_df['clickVolume'] * not_scaled_df['avgFinalUnitPrice']\n",
    "not_scaled_df3['attribute1*avgFinalUnitPrice'] = not_scaled_df3['attribute1'] * not_scaled_df3['avgFinalUnitPrice']\n",
    "not_scaled_df3['attribute2*avgFinalUnitPrice'] = not_scaled_df3['attribute2'] * not_scaled_df3['avgFinalUnitPrice']\n",
    "not_scaled_df3['attribute1*avgOriginalUnitPrice'] = not_scaled_df3['attribute1'] * not_scaled_df3['avgOriginalUnitPrice']\n",
    "not_scaled_df3['plus*meanPurchasePower'] = not_scaled_df3['plus'] * not_scaled_df3['meanPurchasePower']\n",
    "not_scaled_df3['plus*meanUserLevel'] = not_scaled_df3['plus'] * not_scaled_df3['meanUserLevel']\n",
    "not_scaled_df3['meanUserLevel*meanPurchasePower'] = not_scaled_df3['meanUserLevel'] * not_scaled_df3['meanPurchasePower']\n",
    "\n",
    "# scaling\n",
    "ss = StandardScaler()\n",
    "not_scaled_df3 = pd.DataFrame(ss.fit_transform(not_scaled_df3), columns = not_scaled_df3.columns)\n",
    "\n",
    "X_train = not_scaled_df3\n",
    "y_train = y\n",
    "\n",
    "gbr = GradientBoostingRegressor()\n",
    "param_grid = {\n",
    "    'n_estimators' : [500, 1000, 1500],\n",
    "    'max_depth': [1, 3, 5],\n",
    "    'learning_rate': [0.005, 0.01, 0.05, 0.1],\n",
    "    'min_samples_split': [2, 4, 8],\n",
    "    'ccp_alpha': [0],\n",
    "    'random_state': [24]\n",
    "}\n",
    "\n",
    "search3 = GridSearchCV(estimator=gbr, param_grid=param_grid, scoring='neg_mean_squared_error', n_jobs=-1, cv=10, return_train_score=True)\n",
    "search3.fit(X_train, y_train)\n",
    "print(f\"The best parameter for the current model is {search3.best_params_}\")\n",
    "print(f\"The corresponding test MSE is {np.abs(search3.cv_results_['mean_test_score'][search3.best_index_])}\")"
   ]
  },
  {
   "attachments": {},
   "cell_type": "markdown",
   "metadata": {},
   "source": [
    "<h4> Output the 10-Fold CV of the best model"
   ]
  },
  {
   "cell_type": "code",
   "execution_count": 16,
   "metadata": {},
   "outputs": [
    {
     "name": "stdout",
     "output_type": "stream",
     "text": [
      "The best parameter for the current model is {'ccp_alpha': 0, 'learning_rate': 0.05, 'max_depth': 3, 'min_samples_split': 8, 'n_estimators': 1500, 'random_state': 24}\n",
      "The corresponding test MSE is 125.18154478043498\n"
     ]
    }
   ],
   "source": [
    "# adding interracting terms\n",
    "not_scaled_df3 = not_scaled_df.copy()\n",
    "not_scaled_df3['avgOriginalUnitPrice * avgFinalUnitPrice'] = not_scaled_df['avgOriginalUnitPrice'] * not_scaled_df['avgFinalUnitPrice']\n",
    "not_scaled_df3['clickVolume*avgFinalUnitPrice'] = not_scaled_df['clickVolume'] * not_scaled_df['avgFinalUnitPrice']\n",
    "not_scaled_df3['attribute1*avgFinalUnitPrice'] = not_scaled_df3['attribute1'] * not_scaled_df3['avgFinalUnitPrice']\n",
    "not_scaled_df3['attribute2*avgFinalUnitPrice'] = not_scaled_df3['attribute2'] * not_scaled_df3['avgFinalUnitPrice']\n",
    "not_scaled_df3['attribute1*avgOriginalUnitPrice'] = not_scaled_df3['attribute1'] * not_scaled_df3['avgOriginalUnitPrice']\n",
    "not_scaled_df3['plus*meanPurchasePower'] = not_scaled_df3['plus'] * not_scaled_df3['meanPurchasePower']\n",
    "not_scaled_df3['plus*meanUserLevel'] = not_scaled_df3['plus'] * not_scaled_df3['meanUserLevel']\n",
    "not_scaled_df3['meanUserLevel*meanPurchasePower'] = not_scaled_df3['meanUserLevel'] * not_scaled_df3['meanPurchasePower']\n",
    "\n",
    "# scaling\n",
    "ss = StandardScaler()\n",
    "not_scaled_df3 = pd.DataFrame(ss.fit_transform(not_scaled_df3), columns = not_scaled_df3.columns)\n",
    "\n",
    "X_train = not_scaled_df3\n",
    "y_train = y\n",
    "\n",
    "gbr = GradientBoostingRegressor()\n",
    "param_grid = {\n",
    "    'n_estimators' : [1500],\n",
    "    'max_depth': [3],\n",
    "    'learning_rate': [0.05],\n",
    "    'min_samples_split': [8],\n",
    "    'ccp_alpha': [0],\n",
    "    'random_state': [24]\n",
    "}\n",
    "\n",
    "search3 = GridSearchCV(estimator=gbr, param_grid=param_grid, scoring='neg_mean_squared_error', n_jobs=-1, cv=10, return_train_score=True)\n",
    "search3.fit(X_train, y_train)\n",
    "print(f\"The best parameter for the current model is {search3.best_params_}\")\n",
    "print(f\"The corresponding test MSE is {np.abs(search3.cv_results_['mean_test_score'][search3.best_index_])}\")"
   ]
  },
  {
   "cell_type": "code",
   "execution_count": 17,
   "metadata": {},
   "outputs": [
    {
     "name": "stdout",
     "output_type": "stream",
     "text": [
      "The 10-Fold CV test results for GBR model is \n",
      "[[148.60576424]\n",
      " [ 83.87541483]\n",
      " [ 98.86185944]\n",
      " [183.87481472]\n",
      " [ 97.39857891]\n",
      " [117.98422292]\n",
      " [153.38190614]\n",
      " [114.95826304]\n",
      " [ 92.91580774]\n",
      " [159.95881583]]\n",
      "The mean CV score is 125.18154478043498\n"
     ]
    }
   ],
   "source": [
    "res = np.zeros(shape=(10,1))\n",
    "for i in range(10):\n",
    "    string = f'split{i}_test_score'\n",
    "    res[i][0] = -search3.cv_results_[string]\n",
    "\n",
    "print(f'The 10-Fold CV test results for GBR model is \\n{res}')\n",
    "print(f'The mean CV score is {np.mean(res)}')"
   ]
  },
  {
   "attachments": {},
   "cell_type": "markdown",
   "metadata": {},
   "source": [
    "<h4> Output the 10-Fold CV of the best model with outliers"
   ]
  },
  {
   "cell_type": "code",
   "execution_count": 3,
   "metadata": {},
   "outputs": [
    {
     "name": "stdout",
     "output_type": "stream",
     "text": [
      "The best parameter for the current model is {'ccp_alpha': 0, 'learning_rate': 0.05, 'max_depth': 3, 'min_samples_split': 8, 'n_estimators': 1500, 'random_state': 24}\n",
      "The corresponding test MSE is 252.39323561615038\n"
     ]
    }
   ],
   "source": [
    "ss, not_scaled_df, scaled_df, data_train = make_dataset()\n",
    "y = not_scaled_df.sales\n",
    "not_scaled_df = not_scaled_df.drop('sales',axis=1)\n",
    "\n",
    "# adding interracting terms\n",
    "not_scaled_df4 = not_scaled_df.copy()\n",
    "not_scaled_df4['avgOriginalUnitPrice * avgFinalUnitPrice'] = not_scaled_df['avgOriginalUnitPrice'] * not_scaled_df['avgFinalUnitPrice']\n",
    "not_scaled_df4['clickVolume*avgFinalUnitPrice'] = not_scaled_df['clickVolume'] * not_scaled_df['avgFinalUnitPrice']\n",
    "not_scaled_df4['attribute1*avgFinalUnitPrice'] = not_scaled_df4['attribute1'] * not_scaled_df4['avgFinalUnitPrice']\n",
    "not_scaled_df4['attribute2*avgFinalUnitPrice'] = not_scaled_df4['attribute2'] * not_scaled_df4['avgFinalUnitPrice']\n",
    "not_scaled_df4['attribute1*avgOriginalUnitPrice'] = not_scaled_df4['attribute1'] * not_scaled_df4['avgOriginalUnitPrice']\n",
    "not_scaled_df4['plus*meanPurchasePower'] = not_scaled_df4['plus'] * not_scaled_df4['meanPurchasePower']\n",
    "not_scaled_df4['plus*meanUserLevel'] = not_scaled_df4['plus'] * not_scaled_df4['meanUserLevel']\n",
    "not_scaled_df4['meanUserLevel*meanPurchasePower'] = not_scaled_df4['meanUserLevel'] * not_scaled_df4['meanPurchasePower']\n",
    "\n",
    "# scaling\n",
    "ss = StandardScaler()\n",
    "not_scaled_df4 = pd.DataFrame(ss.fit_transform(not_scaled_df4), columns = not_scaled_df4.columns)\n",
    "\n",
    "X_train = not_scaled_df4\n",
    "y_train = y\n",
    "\n",
    "gbr = GradientBoostingRegressor()\n",
    "param_grid = {\n",
    "    'n_estimators' : [1500],\n",
    "    'max_depth': [3],\n",
    "    'learning_rate': [0.05],\n",
    "    'min_samples_split': [8],\n",
    "    'ccp_alpha': [0],\n",
    "    'random_state': [24]\n",
    "}\n",
    "\n",
    "search4 = GridSearchCV(estimator=gbr, param_grid=param_grid, scoring='neg_mean_squared_error', n_jobs=-1, cv=10, return_train_score=True)\n",
    "search4.fit(X_train, y_train)\n",
    "print(f\"The best parameter for the current model is {search4.best_params_}\")\n",
    "print(f\"The corresponding test MSE is {np.abs(search4.cv_results_['mean_test_score'][search4.best_index_])}\")"
   ]
  },
  {
   "cell_type": "code",
   "execution_count": 4,
   "metadata": {},
   "outputs": [
    {
     "name": "stdout",
     "output_type": "stream",
     "text": [
      "The 10-Fold CV test results for GBR model is \n",
      "[[179.09100358]\n",
      " [ 89.71699795]\n",
      " [246.31021515]\n",
      " [187.22086067]\n",
      " [191.23905197]\n",
      " [123.44685211]\n",
      " [371.34105968]\n",
      " [133.66190064]\n",
      " [812.3279994 ]\n",
      " [189.57641501]]\n",
      "The mean CV score is 252.39323561615038\n"
     ]
    }
   ],
   "source": [
    "res = np.zeros(shape=(10,1))\n",
    "for i in range(10):\n",
    "    string = f'split{i}_test_score'\n",
    "    res[i][0] = -search4.cv_results_[string]\n",
    "\n",
    "print(f'The 10-Fold CV test results for GBR model is \\n{res}')\n",
    "print(f'The mean CV score is {np.mean(res)}')"
   ]
  }
 ],
 "metadata": {
  "kernelspec": {
   "display_name": "Python 3",
   "language": "python",
   "name": "python3"
  },
  "language_info": {
   "codemirror_mode": {
    "name": "ipython",
    "version": 3
   },
   "file_extension": ".py",
   "mimetype": "text/x-python",
   "name": "python",
   "nbconvert_exporter": "python",
   "pygments_lexer": "ipython3",
   "version": "3.10.1"
  },
  "orig_nbformat": 4
 },
 "nbformat": 4,
 "nbformat_minor": 2
}
